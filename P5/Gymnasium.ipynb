{
 "cells": [
  {
   "cell_type": "markdown",
   "id": "adf1e768-99b7-4a17-b925-69ad73921791",
   "metadata": {},
   "source": [
    "# Práctica 5: Aprendizaje por refuerzo\n",
    "# Inteligencia Artificial\n",
    "# Grado en Ingeniería Informática - Ingeniería del Software\n",
    "# Universidad de Sevilla"
   ]
  },
  {
   "cell_type": "markdown",
   "id": "ebfe1f28-440e-4dd1-9a68-45c838ef3bfd",
   "metadata": {},
   "source": [
    "[Gymnasium](https://gymnasium.farama.org/) es una biblioteca Python de código abierto que proporciona una interfaz estándar para la comunicación entre entornos y algoritmos de aprendizaje por refuerzo, facilitando de esta manera el desarrollo y comparación de estos últimos."
   ]
  },
  {
   "cell_type": "markdown",
   "id": "a51776f2-df7d-43fc-954f-c731c33f9abb",
   "metadata": {},
   "source": [
    "Esta práctica presenta una introducción a esa biblioteca, mostrando cómo construir un entorno de aprendizaje por refuerzo concreto. Posteriormente se implementan diversos algoritmos de aprendizaje por refuerzo, aplicándolos a ese entorno y comparando los resultados obtenidos."
   ]
  },
  {
   "cell_type": "markdown",
   "id": "237086fa-161e-46fa-b580-455354325980",
   "metadata": {},
   "source": [
    "El entorno a construir pretende simular un robot que se desplaza por una cuadrícula con 3 filas y 4 columnas, con el objetivo de, partiendo de una celda inicial arbitraria, alcanzar la celda superior derecha de la cuadrícula, pero evitando, en la medida de lo posible, pasar por la celda inmediatamente inferior a esa celda objetivo. Además, la celda de la segunda fila y segunda columna no es accesible.\n",
    "\n",
    "<img src=\"Cuadrícula.png\" width=\"150\" height=\"120\" style=\"display: block; margin: 0 auto\">\n",
    "\n",
    "En cada celda, las acciones aplicables son desplazarse una celda en cada una de las 4 posibles direcciones (arriba, abajo, izquierda y derecha). Sin embargo, es posible que, en lugar de moverse en la dirección indicada, el robot se mueva en una dirección perpendicular a ella. La probabilidad de que el robot se mueva en la dirección indicada es de 0.8, mientras que, para cada dirección perpendicular, la probabilidad de que se mueva en esa dirección es de 0.1.\n",
    "\n",
    "Si al tratar de desplazarse el robot choca con el borde exterior de la cuadrícula o con la celda no accesible, entonces no se desplaza y permanece en la celda donde se encontraba.\n",
    "\n",
    "Como se pretende que el robot aprenda a alcanzar la celda objetivo lo antes posible, se establece una recompensa de -0.04 para cada celda. Para que también aprenda a evitar la celda inferior a la objetivo, se establece una recompensa de -1 para esa celda. Las acciones no tienen coste."
   ]
  },
  {
   "cell_type": "markdown",
   "id": "6a72c534-5d71-452c-8314-8a14036f107a",
   "metadata": {},
   "source": [
    "Para la construcción de entornos de aprendizaje por refuerzo, la bilbioteca Gymnasium provee fundamentalmente de tres ingredientes:\n",
    "\n",
    "1. Una [clase de objetos `Env` ](https://gymnasium.farama.org/api/env/) que representa el entorno de manera abstracta. Para crear un entorno concreto se debe implementar una clase de objetos que herede de la clase `Env` y que disponga de los siguientes atributos y métodos:\n",
    "   * Un [atributo `observation_space`](https://gymnasium.farama.org/api/env/#gymnasium.Env.observation_space) que guarde el espacio de posibles estados del entorno.\n",
    "   * Un [atributo `action_space`](https://gymnasium.farama.org/api/env/#gymnasium.Env.action_space) que guarde el espacio de posibles acciones del entorno.\n",
    "   * Un [atributo `reward_range`](https://gymnasium.farama.org/api/env/#gymnasium.Env.reward_range) que guarde el intervalo de posibles recompensas del entorno.\n",
    "   * Un [método `reset`](https://gymnasium.farama.org/api/env/#gymnasium.Env.reset) que reinicie el entorno a un estado inicial. Debe implementarse con argumentos opcionales `seed`, para establecer la semilla del generador de números aleatorios del entorno, y `options`, para proporcionar información adicional de cómo reiniciar el entorno. Debe devolver un elemento del espacio de estados (el estado inicial) y un diccionario con posible información adicional.\n",
    "   * Un [método `step`](https://gymnasium.farama.org/api/env/#gymnasium.Env.step) que ejecute una acción según la dinámica del entorno. Debe implementarse con un argumento `action` como elemento del espacio de acciones. Debe devolver un elemento del espacio de estados (el nuevo estado), la recompensa obtenida (que debería estar dentro del intervalo `reward_range`), dos valores booleanos indicando si el episodio ha terminado (por haber alcanzado un estado terminal) o se ha truncado (por ejemplo, por haber alcanzado el límite de pasos a realizar, como se verá más adelante en la práctica) y un diccionario con posible información adicional. Cuando se alcance el final de un episodio (por terminación o por truncamiento), será necesario ejecutar `reset` para iniciar un nuevo episodio.\n",
    "2. Una [colección de espacios](https://gymnasium.farama.org/api/spaces/) para su uso como valores de los atributos `observation_space` y  `action_space`. Los espacios implementados en Gymnasium disponen, en general, de los siguientes atributos y métodos:\n",
    "   * Un [atributo `shape`](https://gymnasium.farama.org/api/spaces/#gymnasium.spaces.space.Space.shape) que guarda la forma (el tamaño de cada dimensión) del espacio.\n",
    "   * Un [atributo `dtype`](https://gymnasium.farama.org/api/spaces/#gymnasium.spaces.Space.dtype) que guarda el tipo de dato de los elementos del espacio.\n",
    "   * Un [método `contains`](https://gymnasium.farama.org/api/spaces/#gymnasium.spaces.space.Space.contains) que comprueba si el argumento recibido pertenece o no al espacio.\n",
    "   * Un [método `sample`](https://gymnasium.farama.org/api/spaces/#gymnasium.spaces.space.Space.sample) que genera aleatoriamente un elemento del espacio.\n",
    "   * Un [método `seed`](https://gymnasium.farama.org/api/spaces/#gymnasium.spaces.space.Space.seed) que establece la semilla del generador de números aleatorios del espacio.\n",
    "      \n",
    "   Los espacios de Gymnasium utilizados en esta práctica son:\n",
    "   * El [espacio `Box`](https://gymnasium.farama.org/api/spaces/fundamental/#box), que representa el producto cartesiano de intervalos numéricos cerrados, posiblemente no acotados en algún o en ambos extremos. Deben usarse los argumentos `low` y `high` para especificar como arrays de Numpy los extremos inferiores y superiores, respectivamente, de los intervalos y el argumento `dtype` para especificar si los intervalos son de números reales o de números enteros.\n",
    "   * El [espacio `Discrete`](https://gymnasium.farama.org/api/spaces/fundamental/#discrete), que representa un conjunto finito de números enteros. Deben usarse los argumentos `n` y `start` (con valor por defecto 0) para crear el conjunto  $\\{\\mathit{start}, \\mathit{start} + 1, \\dotsc, \\mathit{start} + n - 1\\}$.\n",
    "3. Un [conjunto de envolturas](https://gymnasium.farama.org/api/wrappers/), que son una forma conveniente de modificar un entorno existente sin tener que alterar directamente el código subyacente y que además se pueden encadenar para combinar sus efectos. Las envolturas utilizadas en esta práctica son:\n",
    "   * La [envoltura `TimeLimit`](https://gymnasium.farama.org/api/wrappers/misc_wrappers/#gymnasium.wrappers.TimeLimit) que hará que se emita una señal de truncamiento si se excede un número máximo de pasos en el episodio.\n",
    "   * La [envoltura `RecordEpisodeStatistics`](https://gymnasium.farama.org/api/wrappers/misc_wrappers/#gymnasium.wrappers.RecordEpisodeStatistics) que llevará un registro de las recompensas acumuladas y la duración de los episodios."
   ]
  },
  {
   "cell_type": "markdown",
   "id": "fc20e372-bbc5-4e5d-8992-769938b7285f",
   "metadata": {},
   "source": [
    "Estamos ya en condiciones de implementar nuestro entorno de aprendizaje por refuerzo. Para ello:\n",
    "* Definiremos el espacio de estados como una caja con coordenada $x$ en el intervalo [0, 3] de números enteros y coordenada $y$ en el intervalo [0, 2] de números enteros.\n",
    "* Definiremos el espacio de acciones como el conjunto $\\{0, 1, 2, 3\\}$, donde los elementos representanlas acciones desplazarse hacia arriba, hacia abajo, hacia la izquierda y hacia la derecha, respectivamente.\n",
    "* Definiermos el método `reset` de tal forma que el estado inicial sea la celda inferior izquierda, pero que también se pueda generar aleatoriamente de forma opcional.\n",
    "* Definiremos el método `step` para que implemente la dinámica del sistema."
   ]
  },
  {
   "cell_type": "code",
   "execution_count": 1,
   "id": "d769b7e6-d3a2-4ee9-b4b1-58b15574685a",
   "metadata": {
    "tags": []
   },
   "outputs": [],
   "source": [
    "import numpy as np"
   ]
  },
  {
   "cell_type": "code",
   "execution_count": 4,
   "id": "34106229-9028-4acf-adc5-1bc1599b16e5",
   "metadata": {
    "tags": []
   },
   "outputs": [],
   "source": [
    "from gymnasium import Env\n",
    "from gymnasium.spaces import Box, Discrete"
   ]
  },
  {
   "cell_type": "code",
   "execution_count": 5,
   "id": "2c2c3ff5-237b-46aa-aeda-6fee2082d80c",
   "metadata": {
    "tags": []
   },
   "outputs": [],
   "source": [
    "class CuadriculaEnv(Env):\n",
    "    def __init__(self):\n",
    "        self.espacio_de_estados = Box(low=np.array([0, 0]),\n",
    "                                      high=np.array([3, 2]),\n",
    "                                      dtype=int)\n",
    "        self.espacio_de_acciones = Discrete(n=4)\n",
    "        self.reward_range = (-1, -.04)\n",
    "        self._efectos_de_acciones = {0: np.array([[0, 1], [-1, 0], [1, 0]]),\n",
    "                                    1: np.array([[0, -1], [-1, 0], [1, 0]]),\n",
    "                                    2: np.array([[-1, 0], [0, 1], [0, -1]]),\n",
    "                                    3: np.array([[1, 0], [0, 1], [0, -1]])}\n",
    "    \n",
    "    # Este es un método auxiliar que facilita la implementación de las acciones\n",
    "    # y, como veremos posteriormente, el cálculo de sus tablas de probabilidad\n",
    "    def obten_posibles_movimientos(self, action):\n",
    "        return self._efectos_de_acciones[action]\n",
    "    \n",
    "    def reset(self, seed=None, options={'aleatorio': False}):\n",
    "        # En su caso, se establece la semilla de los generadores de números\n",
    "        # aleatorios del entorno y los espacios de estados y de acciones\n",
    "        if seed is not None:\n",
    "            super().reset(seed=seed)\n",
    "            self.espacio_de_estados.seed(seed)\n",
    "            self.espacio_de_acciones.seed(seed)\n",
    "        # La posición inicial del robot es la celda inferior izquierda\n",
    "        # salvo que se indique que debe generarse aleatoriamente\n",
    "        if (isinstance(options, dict) and\n",
    "            options.get('aleatorio')):\n",
    "            while True:\n",
    "                posicion_inicial = self.espacio_de_estados.sample()\n",
    "                if (not np.array_equal(posicion_inicial, [1, 1]) and\n",
    "                    not np.array_equal(posicion_inicial, [3, 2])):\n",
    "                    break\n",
    "        else:\n",
    "            posicion_inicial = np.array([0, 0])\n",
    "        # El atributo privado estado_actual guarda la posición del robot en\n",
    "        # cada momento\n",
    "        self._estado_actual = posicion_inicial\n",
    "        return posicion_inicial, {}\n",
    "    \n",
    "    def step(self, action):\n",
    "        # La recompensa se obtiene a partir del estado de partida\n",
    "        recompensa = (-1 if np.array_equal(self._estado_actual, [3, 1])\n",
    "                      else -.04)\n",
    "        # La dinámica del sistema se implementa sumando a la posición actual\n",
    "        # del robot el vector que representa la dirección del movimiento,\n",
    "        # elegida esta aleatoriamente según la acción a aplicar\n",
    "        posibles_movimientos = self.obten_posibles_movimientos(action)\n",
    "        movimiento_real = self.np_random.choice(posibles_movimientos,\n",
    "                                                p=[.8, .1, .1])\n",
    "        nuevo_estado = self._estado_actual + movimiento_real\n",
    "        # Si la nueva posición está fuera de la cuadrícula o es la celda no\n",
    "        # accesible, entonces el robot no se mueve\n",
    "        if (not self.espacio_de_estados.contains(nuevo_estado) or\n",
    "            np.array_equal(nuevo_estado, [1, 1])):\n",
    "            nuevo_estado = self._estado_actual\n",
    "        # Se guarda la nueva posición en el atributo privado estado_actual\n",
    "        self._estado_actual = nuevo_estado\n",
    "        # Se comprueba si se ha alcanzado el estado terminal\n",
    "        terminado = np.array_equal(nuevo_estado, [3, 2])\n",
    "        return nuevo_estado, recompensa, terminado, False, {}"
   ]
  },
  {
   "cell_type": "markdown",
   "id": "ff85d33a-6ca6-47a5-a869-27511227d31d",
   "metadata": {},
   "source": [
    "Para crear el entorno basta crear una instancia de la clase de objetos `CuadriculaEnv`."
   ]
  },
  {
   "cell_type": "code",
   "execution_count": 6,
   "id": "2e2bd63a-7cf8-440d-b103-ff317014375a",
   "metadata": {
    "tags": []
   },
   "outputs": [],
   "source": [
    "cuadricula = CuadriculaEnv()"
   ]
  },
  {
   "cell_type": "markdown",
   "id": "081a41c8-8775-422e-bb2a-6b35c3cb8563",
   "metadata": {},
   "source": [
    "El método `reset` reinicia el entorno estableciendo la celda (0, 0) como posición inicial del robot."
   ]
  },
  {
   "cell_type": "code",
   "execution_count": 7,
   "id": "e4014f2c-71ac-4a91-a078-e15decf76266",
   "metadata": {
    "tags": []
   },
   "outputs": [
    {
     "data": {
      "text/plain": [
       "(array([0, 0]), {})"
      ]
     },
     "execution_count": 7,
     "metadata": {},
     "output_type": "execute_result"
    }
   ],
   "source": [
    "cuadricula.reset()"
   ]
  },
  {
   "cell_type": "markdown",
   "id": "10ddfdb4-b728-4f5e-bb88-dfc36a7597c8",
   "metadata": {},
   "source": [
    "Pero también puede indicarse que la posición inicial sea una celda aleatoria, en cuyo caso es conviente también establecer una semilla aleatoria, para obtener un resultado reproducible."
   ]
  },
  {
   "cell_type": "code",
   "execution_count": 8,
   "id": "c9658511-d96a-4099-9745-9e0ec2c1b9bd",
   "metadata": {
    "tags": []
   },
   "outputs": [
    {
     "data": {
      "text/plain": [
       "(array([1, 2]), {})"
      ]
     },
     "execution_count": 8,
     "metadata": {},
     "output_type": "execute_result"
    }
   ],
   "source": [
    "cuadricula.reset(seed=3432894, options={'aleatorio': True})"
   ]
  },
  {
   "cell_type": "markdown",
   "id": "3e854479-c08f-457e-b06b-dc24b6200b17",
   "metadata": {},
   "source": [
    "El método `step` desplaza el robot según la dirección indicada y la dinámica del sistema."
   ]
  },
  {
   "cell_type": "code",
   "execution_count": 9,
   "id": "06aea526-1f46-4e9f-b997-d4f4dc7acd24",
   "metadata": {
    "tags": []
   },
   "outputs": [
    {
     "data": {
      "text/plain": [
       "(array([1, 2]), -0.04, False, False, {})"
      ]
     },
     "execution_count": 9,
     "metadata": {},
     "output_type": "execute_result"
    }
   ],
   "source": [
    "# La acción abajo no mueve al robot, ya que la celda (1, 1) no es accesible\n",
    "cuadricula.step(1)"
   ]
  },
  {
   "cell_type": "code",
   "execution_count": 10,
   "id": "036c5ebc-31e7-4193-ae95-50c9ad365596",
   "metadata": {},
   "outputs": [
    {
     "data": {
      "text/plain": [
       "(array([2, 2]), -0.04, False, False, {})"
      ]
     },
     "execution_count": 10,
     "metadata": {},
     "output_type": "execute_result"
    }
   ],
   "source": [
    "# Pero esta vez, aleatoriamente el robot se desplaza hacia la derecha, en\n",
    "# lugar de hacia abajo\n",
    "cuadricula.step(1)"
   ]
  },
  {
   "cell_type": "code",
   "execution_count": 11,
   "id": "33bdb259-95c5-4dba-a2bb-4f99769bf700",
   "metadata": {
    "tags": []
   },
   "outputs": [
    {
     "data": {
      "text/plain": [
       "(array([3, 2]), -0.04, True, False, {})"
      ]
     },
     "execution_count": 11,
     "metadata": {},
     "output_type": "execute_result"
    }
   ],
   "source": [
    "# La acción derecha hace, entonces, que el robot alcance la celda objetivo\n",
    "cuadricula.step(3)"
   ]
  },
  {
   "cell_type": "markdown",
   "id": "1f25df28-1dcb-4763-afb1-6cc515601b79",
   "metadata": {},
   "source": [
    "El objetivo de la práctica a partir de este punto es ilustrar los conceptos y algoritmos de aprendizaje por refuerzo explicados en las clases teóricas. Para ello, las implementaciones realizadas deberán ser externas al entorno `cuadricula`, interaccionando con él únicamente a través de sus atributos y métodos definidos de forma pública. Además, para conseguir la reproducibilidad del cuaderno de Jupyter, cada vez que se vaya a interaccionar con el entorno se realizará un reinicio inicial con una determinada semilla aleatoria."
   ]
  },
  {
   "cell_type": "markdown",
   "id": "da4c135b-a249-43db-90df-920dca9decac",
   "metadata": {},
   "source": [
    "El primer concepto a considerar es el de política de acciones, que para nuestro entorno deberá asociar un movimiento del robot a cada celda. En principio, la forma natural de implementar una política sería mediante una estructura de tipo diccionario, pero en este caso, para facilitar su representación, usaremos arrays de Numpy con forma (4, 3), de manera que el primer índice corresponde a la coordenada $x$ y el segundo a la coordenada $y$ (en correspondencia con el espacio de estados del entorno)."
   ]
  },
  {
   "cell_type": "markdown",
   "id": "0bf3d547-a494-4150-a4e4-dd22ab990e68",
   "metadata": {},
   "source": [
    "Las siguientes dos funciones construyen una representación de las políticas como arrays de cadenas que, al mostrarlos por pantalla, ofrecen una visualización directa de las acciones asociadas a cada celda."
   ]
  },
  {
   "cell_type": "code",
   "execution_count": 12,
   "id": "8823be6f-7450-46b5-a6bb-f293470af680",
   "metadata": {
    "tags": []
   },
   "outputs": [],
   "source": [
    "def representa_accion(accion):\n",
    "    representaciones_de_acciones = {0: '↑', 1: '↓', 2: '←', 3: '→'}\n",
    "    return representaciones_de_acciones[accion]"
   ]
  },
  {
   "cell_type": "code",
   "execution_count": 13,
   "id": "44351d96-f023-4c58-87eb-bd55791fc2d7",
   "metadata": {
    "tags": []
   },
   "outputs": [],
   "source": [
    "def representa_politica(politica):\n",
    "    representacion = np.vectorize(representa_accion)(politica)\n",
    "    representacion[1, 1] = 'X'\n",
    "    representacion[3, 2] = 'T'\n",
    "    return np.flipud(representacion.T)"
   ]
  },
  {
   "cell_type": "markdown",
   "id": "f7550a6b-b14b-4be5-9b8b-5ed31b801ee4",
   "metadata": {},
   "source": [
    "Como primer ejemplo, consideramos la política que asocia la acción derecha a cada celda."
   ]
  },
  {
   "cell_type": "code",
   "execution_count": 15,
   "id": "4524a50f-f4f7-403e-b640-e6432c970f9e",
   "metadata": {
    "tags": []
   },
   "outputs": [
    {
     "name": "stdout",
     "output_type": "stream",
     "text": [
      "[['→' '→' '→' 'T']\n",
      " ['→' 'X' '→' '→']\n",
      " ['→' '→' '→' '→']]\n"
     ]
    }
   ],
   "source": [
    "politica_siempre_derecha = np.full((4, 3), 3)\n",
    "print(representa_politica(politica_siempre_derecha))"
   ]
  },
  {
   "cell_type": "markdown",
   "id": "7cd95d9e-f86c-491e-b95d-155f6ca18367",
   "metadata": {},
   "source": [
    "La siguiente función implementa la ejecución de un episodio del entorno indicado, siguiendo la política especificada. Un episodio consiste de la ejecución del método `reset`, para reiniciar el entorno, seguido de la ejecución reiterada del método `step` hasta que se alcance un estado terminal o se trunque el episodio. La función muestra por pantalla la acción ejecutada, la recompensa obtenida y el nuevo estado alcanzado en cada paso y devuelve el diccionario de información del último paso realizado (la utilidad de devolver esto como resultado la veremos más adelante)."
   ]
  },
  {
   "cell_type": "code",
   "execution_count": 16,
   "id": "9d6028ca-ffe0-405e-b36f-786ebcb9884b",
   "metadata": {},
   "outputs": [],
   "source": [
    "def ejecuta_episodio_cuadricula(entorno, politica):\n",
    "    recompensa_acumulada = 0\n",
    "    estado, info = entorno.reset()\n",
    "    print(f'Estado inicial: {estado}')\n",
    "    while True:\n",
    "        accion = politica[tuple(estado)]\n",
    "        estado, recompensa, terminado, truncado, info = entorno.step(accion)\n",
    "        recompensa_acumulada += recompensa\n",
    "        print(f'Acción: {representa_accion(accion)}',\n",
    "              f'   Recompensa: {recompensa:.2f}',\n",
    "              f'   Nuevo estado: {estado}')\n",
    "        print(f'Recompensa acumulada: {recompensa_acumulada:.2f}')\n",
    "        if terminado or truncado:\n",
    "            break\n",
    "    return info"
   ]
  },
  {
   "cell_type": "markdown",
   "id": "5269b9c5-5b86-414a-b2a1-5c405c9a2c27",
   "metadata": {},
   "source": [
    "A continuación ejecutamos un episodio de la cuadrícula siguiendo la política de tratar de ir siempre hacia la derecha."
   ]
  },
  {
   "cell_type": "code",
   "execution_count": 17,
   "id": "48d626c7-ea85-4fbd-8839-bec911fa094c",
   "metadata": {
    "tags": []
   },
   "outputs": [
    {
     "name": "stdout",
     "output_type": "stream",
     "text": [
      "Estado inicial: [0 0]\n",
      "Acción: →    Recompensa: -0.04    Nuevo estado: [0 0]\n",
      "Recompensa acumulada: -0.04\n",
      "Acción: →    Recompensa: -0.04    Nuevo estado: [0 0]\n",
      "Recompensa acumulada: -0.08\n",
      "Acción: →    Recompensa: -0.04    Nuevo estado: [1 0]\n",
      "Recompensa acumulada: -0.12\n",
      "Acción: →    Recompensa: -0.04    Nuevo estado: [2 0]\n",
      "Recompensa acumulada: -0.16\n",
      "Acción: →    Recompensa: -0.04    Nuevo estado: [3 0]\n",
      "Recompensa acumulada: -0.20\n",
      "Acción: →    Recompensa: -0.04    Nuevo estado: [3 0]\n",
      "Recompensa acumulada: -0.24\n",
      "Acción: →    Recompensa: -0.04    Nuevo estado: [3 0]\n",
      "Recompensa acumulada: -0.28\n",
      "Acción: →    Recompensa: -0.04    Nuevo estado: [3 0]\n",
      "Recompensa acumulada: -0.32\n",
      "Acción: →    Recompensa: -0.04    Nuevo estado: [3 0]\n",
      "Recompensa acumulada: -0.36\n",
      "Acción: →    Recompensa: -0.04    Nuevo estado: [3 0]\n",
      "Recompensa acumulada: -0.40\n",
      "Acción: →    Recompensa: -0.04    Nuevo estado: [3 0]\n",
      "Recompensa acumulada: -0.44\n",
      "Acción: →    Recompensa: -0.04    Nuevo estado: [3 0]\n",
      "Recompensa acumulada: -0.48\n",
      "Acción: →    Recompensa: -0.04    Nuevo estado: [3 0]\n",
      "Recompensa acumulada: -0.52\n",
      "Acción: →    Recompensa: -0.04    Nuevo estado: [3 0]\n",
      "Recompensa acumulada: -0.56\n",
      "Acción: →    Recompensa: -0.04    Nuevo estado: [3 0]\n",
      "Recompensa acumulada: -0.60\n",
      "Acción: →    Recompensa: -0.04    Nuevo estado: [3 1]\n",
      "Recompensa acumulada: -0.64\n",
      "Acción: →    Recompensa: -1.00    Nuevo estado: [3 1]\n",
      "Recompensa acumulada: -1.64\n",
      "Acción: →    Recompensa: -1.00    Nuevo estado: [3 2]\n",
      "Recompensa acumulada: -2.64\n"
     ]
    },
    {
     "data": {
      "text/plain": [
       "{}"
      ]
     },
     "execution_count": 17,
     "metadata": {},
     "output_type": "execute_result"
    }
   ],
   "source": [
    "cuadricula.reset(seed=3958723)\n",
    "ejecuta_episodio_cuadricula(cuadricula,\n",
    "                            politica_siempre_derecha)"
   ]
  },
  {
   "cell_type": "markdown",
   "id": "64f6305c-3895-4545-bab8-05b564d89d36",
   "metadata": {},
   "source": [
    "Tras realizar 18 pasos, el robot alcanza la celda objetivo y, por tanto, el episodio termina. En este caso se ha generado un episodio corto, pero es perfectamente posible que se generen episodios excesivamente largos. Usando la envoltura `TimeLimit`, se puede limitar fácilmente la longitud de los episodios, truncándolos cuando se alcance el número de pasos especificado."
   ]
  },
  {
   "cell_type": "code",
   "execution_count": 15,
   "id": "3f133bc5-3939-4b45-bffd-56e877a80804",
   "metadata": {
    "tags": []
   },
   "outputs": [],
   "source": [
    "from gymnasium.wrappers import TimeLimit"
   ]
  },
  {
   "cell_type": "code",
   "execution_count": 16,
   "id": "522c1f03-4cf3-479e-ba6f-3c5ddee301d4",
   "metadata": {
    "tags": []
   },
   "outputs": [],
   "source": [
    "cuadricula_con_tiempo_limite = TimeLimit(cuadricula,\n",
    "                                         max_episode_steps=10)"
   ]
  },
  {
   "cell_type": "markdown",
   "id": "cb056bce-d044-4550-8fdc-b3aab236ad19",
   "metadata": {},
   "source": [
    "Ahora el mismo episodio anterior se truncaría tras diez pasos."
   ]
  },
  {
   "cell_type": "code",
   "execution_count": 17,
   "id": "54749f48-6b7c-4a26-a17a-2e923bd602e5",
   "metadata": {
    "tags": []
   },
   "outputs": [
    {
     "name": "stdout",
     "output_type": "stream",
     "text": [
      "Estado inicial: [0 0]\n",
      "Acción: →    Recompensa: -0.04    Nuevo estado: [0 0]\n",
      "Recompensa acumulada: -0.04\n",
      "Acción: →    Recompensa: -0.04    Nuevo estado: [0 0]\n",
      "Recompensa acumulada: -0.08\n",
      "Acción: →    Recompensa: -0.04    Nuevo estado: [1 0]\n",
      "Recompensa acumulada: -0.12\n",
      "Acción: →    Recompensa: -0.04    Nuevo estado: [2 0]\n",
      "Recompensa acumulada: -0.16\n",
      "Acción: →    Recompensa: -0.04    Nuevo estado: [3 0]\n",
      "Recompensa acumulada: -0.20\n",
      "Acción: →    Recompensa: -0.04    Nuevo estado: [3 0]\n",
      "Recompensa acumulada: -0.24\n",
      "Acción: →    Recompensa: -0.04    Nuevo estado: [3 0]\n",
      "Recompensa acumulada: -0.28\n",
      "Acción: →    Recompensa: -0.04    Nuevo estado: [3 0]\n",
      "Recompensa acumulada: -0.32\n",
      "Acción: →    Recompensa: -0.04    Nuevo estado: [3 0]\n",
      "Recompensa acumulada: -0.36\n",
      "Acción: →    Recompensa: -0.04    Nuevo estado: [3 0]\n",
      "Recompensa acumulada: -0.40\n"
     ]
    },
    {
     "data": {
      "text/plain": [
       "{}"
      ]
     },
     "execution_count": 17,
     "metadata": {},
     "output_type": "execute_result"
    }
   ],
   "source": [
    "cuadricula_con_tiempo_limite.reset(seed=3958723)\n",
    "ejecuta_episodio_cuadricula(cuadricula_con_tiempo_limite,\n",
    "                            politica_siempre_derecha)"
   ]
  },
  {
   "cell_type": "markdown",
   "id": "1df79c72-18c8-44a2-884e-350d46971e0f",
   "metadata": {},
   "source": [
    "Por su parte, la envoltura `RecordEpisodeStatistics` permite recopilar información acerca de los episodios.\n",
    "\n",
    "* Por un lado, para cada episodio devuelve, en el diccionario de información del último paso (aquí está el sentido de que la función `ejecuta_episodio_cuadricula` se haya implementado para que devuelva ese diccionario como resultado), la recompensa acumulada, la longitud y el coste en tiempo del episodio.\n",
    "* Por otro lado, añade al entorno los atributos `return_queue` y `length_queue` que recopilan, respectivamente, las recompensas acumuladas y las longitudes de los últimos `deque_size` episodios (con valor por defecto 100)."
   ]
  },
  {
   "cell_type": "code",
   "execution_count": 18,
   "id": "03a24ba8-ba78-482d-b7ba-1ffe098b1a15",
   "metadata": {
    "tags": []
   },
   "outputs": [],
   "source": [
    "from gymnasium.wrappers import RecordEpisodeStatistics"
   ]
  },
  {
   "cell_type": "code",
   "execution_count": 19,
   "id": "81226b63-1d89-4753-85b7-566a00c572be",
   "metadata": {
    "tags": []
   },
   "outputs": [
    {
     "name": "stderr",
     "output_type": "stream",
     "text": [
      "/home/alvaro/Compartidos/Universidad/IAIS-2023-24/Contenido práctico/Entorno.nosync/lib/python3.11/site-packages/gymnasium/core.py:297: UserWarning: \u001b[33mWARN: env.num_envs to get variables from other wrappers is deprecated and will be removed in v1.0, to get this variable you can do `env.unwrapped.num_envs` for environment variables or `env.get_attr('num_envs')` that will search the reminding wrappers.\u001b[0m\n",
      "  logger.warn(\n"
     ]
    }
   ],
   "source": [
    "cuadricula_con_registro = RecordEpisodeStatistics(cuadricula)\n",
    "\n",
    "# Nota: se puede ignorar el aviso que se produce"
   ]
  },
  {
   "cell_type": "code",
   "execution_count": 20,
   "id": "abf8f036-c8df-4be5-a420-48af86a77084",
   "metadata": {
    "tags": []
   },
   "outputs": [
    {
     "name": "stdout",
     "output_type": "stream",
     "text": [
      "Estado inicial: [0 0]\n",
      "Acción: →    Recompensa: -0.04    Nuevo estado: [0 0]\n",
      "Recompensa acumulada: -0.04\n",
      "Acción: →    Recompensa: -0.04    Nuevo estado: [0 0]\n",
      "Recompensa acumulada: -0.08\n",
      "Acción: →    Recompensa: -0.04    Nuevo estado: [1 0]\n",
      "Recompensa acumulada: -0.12\n",
      "Acción: →    Recompensa: -0.04    Nuevo estado: [2 0]\n",
      "Recompensa acumulada: -0.16\n",
      "Acción: →    Recompensa: -0.04    Nuevo estado: [3 0]\n",
      "Recompensa acumulada: -0.20\n",
      "Acción: →    Recompensa: -0.04    Nuevo estado: [3 0]\n",
      "Recompensa acumulada: -0.24\n",
      "Acción: →    Recompensa: -0.04    Nuevo estado: [3 0]\n",
      "Recompensa acumulada: -0.28\n",
      "Acción: →    Recompensa: -0.04    Nuevo estado: [3 0]\n",
      "Recompensa acumulada: -0.32\n",
      "Acción: →    Recompensa: -0.04    Nuevo estado: [3 0]\n",
      "Recompensa acumulada: -0.36\n",
      "Acción: →    Recompensa: -0.04    Nuevo estado: [3 0]\n",
      "Recompensa acumulada: -0.40\n",
      "Acción: →    Recompensa: -0.04    Nuevo estado: [3 0]\n",
      "Recompensa acumulada: -0.44\n",
      "Acción: →    Recompensa: -0.04    Nuevo estado: [3 0]\n",
      "Recompensa acumulada: -0.48\n",
      "Acción: →    Recompensa: -0.04    Nuevo estado: [3 0]\n",
      "Recompensa acumulada: -0.52\n",
      "Acción: →    Recompensa: -0.04    Nuevo estado: [3 0]\n",
      "Recompensa acumulada: -0.56\n",
      "Acción: →    Recompensa: -0.04    Nuevo estado: [3 0]\n",
      "Recompensa acumulada: -0.60\n",
      "Acción: →    Recompensa: -0.04    Nuevo estado: [3 1]\n",
      "Recompensa acumulada: -0.64\n",
      "Acción: →    Recompensa: -1.00    Nuevo estado: [3 1]\n",
      "Recompensa acumulada: -1.64\n",
      "Acción: →    Recompensa: -1.00    Nuevo estado: [3 2]\n",
      "Recompensa acumulada: -2.64\n"
     ]
    },
    {
     "data": {
      "text/plain": [
       "{'episode': {'r': array([-2.6399999], dtype=float32),\n",
       "  'l': array([18], dtype=int32),\n",
       "  't': array([0.00293], dtype=float32)}}"
      ]
     },
     "execution_count": 20,
     "metadata": {},
     "output_type": "execute_result"
    }
   ],
   "source": [
    "cuadricula_con_registro.reset(seed=3958723)\n",
    "ejecuta_episodio_cuadricula(cuadricula_con_registro,\n",
    "                            politica_siempre_derecha)"
   ]
  },
  {
   "cell_type": "markdown",
   "id": "84b36c81-8316-428b-9675-ce9d1ebf118e",
   "metadata": {},
   "source": [
    "Podemos limitar la longitud de los episodios y, a la vez, recopilar información acerca de los mismos encadenando las envolturas."
   ]
  },
  {
   "cell_type": "code",
   "execution_count": 21,
   "id": "3dff2f62-a30f-44a7-8703-d92373dae91a",
   "metadata": {
    "tags": []
   },
   "outputs": [
    {
     "name": "stdout",
     "output_type": "stream",
     "text": [
      "Episodio 1:\n",
      "\n",
      "Estado inicial: [0 0]\n",
      "Acción: →    Recompensa: -0.04    Nuevo estado: [0 0]\n",
      "Recompensa acumulada: -0.04\n",
      "Acción: →    Recompensa: -0.04    Nuevo estado: [0 0]\n",
      "Recompensa acumulada: -0.08\n",
      "Acción: →    Recompensa: -0.04    Nuevo estado: [1 0]\n",
      "Recompensa acumulada: -0.12\n",
      "Acción: →    Recompensa: -0.04    Nuevo estado: [2 0]\n",
      "Recompensa acumulada: -0.16\n",
      "Acción: →    Recompensa: -0.04    Nuevo estado: [3 0]\n",
      "Recompensa acumulada: -0.20\n",
      "Acción: →    Recompensa: -0.04    Nuevo estado: [3 0]\n",
      "Recompensa acumulada: -0.24\n",
      "Acción: →    Recompensa: -0.04    Nuevo estado: [3 0]\n",
      "Recompensa acumulada: -0.28\n",
      "Acción: →    Recompensa: -0.04    Nuevo estado: [3 0]\n",
      "Recompensa acumulada: -0.32\n",
      "Acción: →    Recompensa: -0.04    Nuevo estado: [3 0]\n",
      "Recompensa acumulada: -0.36\n",
      "Acción: →    Recompensa: -0.04    Nuevo estado: [3 0]\n",
      "Recompensa acumulada: -0.40\n",
      "\n",
      "\n",
      "Episodio 2:\n",
      "\n",
      "Estado inicial: [0 0]\n",
      "Acción: →    Recompensa: -0.04    Nuevo estado: [1 0]\n",
      "Recompensa acumulada: -0.04\n",
      "Acción: →    Recompensa: -0.04    Nuevo estado: [1 0]\n",
      "Recompensa acumulada: -0.08\n",
      "Acción: →    Recompensa: -0.04    Nuevo estado: [2 0]\n",
      "Recompensa acumulada: -0.12\n",
      "Acción: →    Recompensa: -0.04    Nuevo estado: [3 0]\n",
      "Recompensa acumulada: -0.16\n",
      "Acción: →    Recompensa: -0.04    Nuevo estado: [3 0]\n",
      "Recompensa acumulada: -0.20\n",
      "Acción: →    Recompensa: -0.04    Nuevo estado: [3 1]\n",
      "Recompensa acumulada: -0.24\n",
      "Acción: →    Recompensa: -1.00    Nuevo estado: [3 1]\n",
      "Recompensa acumulada: -1.24\n",
      "Acción: →    Recompensa: -1.00    Nuevo estado: [3 2]\n",
      "Recompensa acumulada: -2.24\n",
      "\n",
      "\n",
      "Episodio 3:\n",
      "\n",
      "Estado inicial: [0 0]\n",
      "Acción: →    Recompensa: -0.04    Nuevo estado: [0 0]\n",
      "Recompensa acumulada: -0.04\n",
      "Acción: →    Recompensa: -0.04    Nuevo estado: [1 0]\n",
      "Recompensa acumulada: -0.08\n",
      "Acción: →    Recompensa: -0.04    Nuevo estado: [1 0]\n",
      "Recompensa acumulada: -0.12\n",
      "Acción: →    Recompensa: -0.04    Nuevo estado: [2 0]\n",
      "Recompensa acumulada: -0.16\n",
      "Acción: →    Recompensa: -0.04    Nuevo estado: [3 0]\n",
      "Recompensa acumulada: -0.20\n",
      "Acción: →    Recompensa: -0.04    Nuevo estado: [3 0]\n",
      "Recompensa acumulada: -0.24\n",
      "Acción: →    Recompensa: -0.04    Nuevo estado: [3 0]\n",
      "Recompensa acumulada: -0.28\n",
      "Acción: →    Recompensa: -0.04    Nuevo estado: [3 0]\n",
      "Recompensa acumulada: -0.32\n",
      "Acción: →    Recompensa: -0.04    Nuevo estado: [3 0]\n",
      "Recompensa acumulada: -0.36\n",
      "Acción: →    Recompensa: -0.04    Nuevo estado: [3 0]\n",
      "Recompensa acumulada: -0.40\n",
      "\n",
      "\n",
      "Episodio 4:\n",
      "\n",
      "Estado inicial: [0 0]\n",
      "Acción: →    Recompensa: -0.04    Nuevo estado: [1 0]\n",
      "Recompensa acumulada: -0.04\n",
      "Acción: →    Recompensa: -0.04    Nuevo estado: [2 0]\n",
      "Recompensa acumulada: -0.08\n",
      "Acción: →    Recompensa: -0.04    Nuevo estado: [3 0]\n",
      "Recompensa acumulada: -0.12\n",
      "Acción: →    Recompensa: -0.04    Nuevo estado: [3 0]\n",
      "Recompensa acumulada: -0.16\n",
      "Acción: →    Recompensa: -0.04    Nuevo estado: [3 0]\n",
      "Recompensa acumulada: -0.20\n",
      "Acción: →    Recompensa: -0.04    Nuevo estado: [3 0]\n",
      "Recompensa acumulada: -0.24\n",
      "Acción: →    Recompensa: -0.04    Nuevo estado: [3 0]\n",
      "Recompensa acumulada: -0.28\n",
      "Acción: →    Recompensa: -0.04    Nuevo estado: [3 0]\n",
      "Recompensa acumulada: -0.32\n",
      "Acción: →    Recompensa: -0.04    Nuevo estado: [3 1]\n",
      "Recompensa acumulada: -0.36\n",
      "Acción: →    Recompensa: -1.00    Nuevo estado: [3 1]\n",
      "Recompensa acumulada: -1.36\n",
      "\n",
      "\n",
      "Episodio 5:\n",
      "\n",
      "Estado inicial: [0 0]\n",
      "Acción: →    Recompensa: -0.04    Nuevo estado: [1 0]\n",
      "Recompensa acumulada: -0.04\n",
      "Acción: →    Recompensa: -0.04    Nuevo estado: [2 0]\n",
      "Recompensa acumulada: -0.08\n",
      "Acción: →    Recompensa: -0.04    Nuevo estado: [3 0]\n",
      "Recompensa acumulada: -0.12\n",
      "Acción: →    Recompensa: -0.04    Nuevo estado: [3 0]\n",
      "Recompensa acumulada: -0.16\n",
      "Acción: →    Recompensa: -0.04    Nuevo estado: [3 0]\n",
      "Recompensa acumulada: -0.20\n",
      "Acción: →    Recompensa: -0.04    Nuevo estado: [3 0]\n",
      "Recompensa acumulada: -0.24\n",
      "Acción: →    Recompensa: -0.04    Nuevo estado: [3 0]\n",
      "Recompensa acumulada: -0.28\n",
      "Acción: →    Recompensa: -0.04    Nuevo estado: [3 0]\n",
      "Recompensa acumulada: -0.32\n",
      "Acción: →    Recompensa: -0.04    Nuevo estado: [3 0]\n",
      "Recompensa acumulada: -0.36\n",
      "Acción: →    Recompensa: -0.04    Nuevo estado: [3 0]\n",
      "Recompensa acumulada: -0.40\n",
      "\n",
      "\n"
     ]
    }
   ],
   "source": [
    "cuadricula_con_tiempo_limite_y_registro = RecordEpisodeStatistics(\n",
    "    TimeLimit(\n",
    "        cuadricula,\n",
    "        max_episode_steps=10\n",
    "    ),\n",
    "    deque_size=5\n",
    ")\n",
    "cuadricula_con_tiempo_limite_y_registro.reset(seed=3958723)\n",
    "for episodio in range(1, 6):\n",
    "    print(f'Episodio {episodio}:')\n",
    "    print()\n",
    "    ejecuta_episodio_cuadricula(cuadricula_con_tiempo_limite_y_registro,\n",
    "                                politica_siempre_derecha)\n",
    "    print()\n",
    "    print()"
   ]
  },
  {
   "cell_type": "code",
   "execution_count": 22,
   "id": "a0af2167-c2a6-4086-8014-b50042918964",
   "metadata": {
    "tags": []
   },
   "outputs": [
    {
     "data": {
      "text/plain": [
       "deque([array([-0.39999995], dtype=float32),\n",
       "       array([-2.24], dtype=float32),\n",
       "       array([-0.39999995], dtype=float32),\n",
       "       array([-1.3599999], dtype=float32),\n",
       "       array([-0.39999995], dtype=float32)],\n",
       "      maxlen=5)"
      ]
     },
     "execution_count": 22,
     "metadata": {},
     "output_type": "execute_result"
    }
   ],
   "source": [
    "cuadricula_con_tiempo_limite_y_registro.return_queue"
   ]
  },
  {
   "cell_type": "code",
   "execution_count": 23,
   "id": "aa663704-75d1-44bc-849f-fee2529b9ee0",
   "metadata": {
    "tags": []
   },
   "outputs": [
    {
     "data": {
      "text/plain": [
       "deque([array([10], dtype=int32),\n",
       "       array([8], dtype=int32),\n",
       "       array([10], dtype=int32),\n",
       "       array([10], dtype=int32),\n",
       "       array([10], dtype=int32)],\n",
       "      maxlen=5)"
      ]
     },
     "execution_count": 23,
     "metadata": {},
     "output_type": "execute_result"
    }
   ],
   "source": [
    "cuadricula_con_tiempo_limite_y_registro.length_queue"
   ]
  },
  {
   "cell_type": "markdown",
   "id": "e1d56461-4e0c-4f81-aad5-1ffaf1153774",
   "metadata": {},
   "source": [
    "La siguiente función permite ejecutar una cierta cantidad de episodios siguiendo una determinada política."
   ]
  },
  {
   "cell_type": "code",
   "execution_count": 24,
   "id": "d3dccf2e-1c57-4129-bee0-ae80d5d3ecee",
   "metadata": {},
   "outputs": [],
   "source": [
    "from tqdm import tqdm"
   ]
  },
  {
   "cell_type": "code",
   "execution_count": 25,
   "id": "e613d793-5d49-4d07-98a5-556c472121ef",
   "metadata": {},
   "outputs": [],
   "source": [
    "def ejecuta_entorno_cuadricula(entorno, politica, num_episodios):\n",
    "    for episodio in tqdm(range(num_episodios), ncols=100):\n",
    "        estado, _ = entorno.reset()\n",
    "        while True:\n",
    "            accion = politica[tuple(estado)]\n",
    "            estado, recompensa, terminado, truncado, _ = entorno.step(accion)\n",
    "            if terminado or truncado:\n",
    "                break\n",
    "    return entorno.return_queue, entorno.length_queue"
   ]
  },
  {
   "cell_type": "markdown",
   "id": "14a0dfc0-ee39-4650-945a-aa2af2310fd5",
   "metadata": {},
   "source": [
    "Procedemos ahora a ejecutar mil episodios siguiendo la política de ir siempre hacia la derecha."
   ]
  },
  {
   "cell_type": "code",
   "execution_count": 26,
   "id": "af8d1b54-0174-4951-ac5e-3d022283ce4c",
   "metadata": {
    "tags": []
   },
   "outputs": [],
   "source": [
    "cuadricula_con_registro = RecordEpisodeStatistics(cuadricula,\n",
    "                                                  deque_size=1000)"
   ]
  },
  {
   "cell_type": "code",
   "execution_count": 27,
   "id": "e3eb59c7-216f-4947-bb78-56a7b30f2e01",
   "metadata": {
    "tags": []
   },
   "outputs": [
    {
     "name": "stderr",
     "output_type": "stream",
     "text": [
      "100%|██████████████████████████████████████████████████████████| 1000/1000 [00:01<00:00, 906.43it/s]\n"
     ]
    }
   ],
   "source": [
    "cuadricula_con_registro.reset(seed=3958723)\n",
    "recompensas, longitudes = ejecuta_entorno_cuadricula(cuadricula_con_registro,\n",
    "                                                     politica_siempre_derecha,\n",
    "                                                     num_episodios=1000)"
   ]
  },
  {
   "cell_type": "markdown",
   "id": "52ea42c3-8af9-4c19-947e-85974cb8004f",
   "metadata": {},
   "source": [
    "La visualización gráfica de las recompensas acumuladas y las longitudes de los episodios muestra que ir siempre hacia la derecha no es una buena política."
   ]
  },
  {
   "cell_type": "code",
   "execution_count": 28,
   "id": "1e1c03cb-159d-4a25-9d46-7a7d316be5d2",
   "metadata": {
    "tags": []
   },
   "outputs": [],
   "source": [
    "import matplotlib.pyplot as plt"
   ]
  },
  {
   "cell_type": "code",
   "execution_count": 29,
   "id": "1a4227a1-e1fc-4ce7-b5dd-74b31fea766b",
   "metadata": {
    "tags": []
   },
   "outputs": [],
   "source": [
    "def visualiza_histograma_de_episodios(recompensas, longitudes):\n",
    "    print(f'Recompensa media de los episodios: {np.mean(recompensas)}')\n",
    "    print(f'Longitud media de los episodios: {np.mean(longitudes)}')\n",
    "    print()\n",
    "    fig, (ax1, ax2) = plt.subplots(1, 2, figsize=(10, 3))\n",
    "    ax1.hist(np.array(recompensas).flatten(), bins=10)\n",
    "    ax1.set_title('Histograma de las recompensas\\nacumuladas de los episodios')\n",
    "    ax1.set_xlabel('Recompensa acumulada')\n",
    "    ax1.set_ylabel('Frecuencia absoluta')\n",
    "    ax2.hist(np.array(longitudes).flatten(), bins=10)\n",
    "    ax2.set_title('Histograma de las longitudes\\nde los episodios')\n",
    "    ax2.set_xlabel('Longitud')\n",
    "    ax2.set_ylabel('Frecuencia absoluta')"
   ]
  },
  {
   "cell_type": "code",
   "execution_count": 30,
   "id": "46e28bd9-99cd-43a1-b93f-23a3f5804256",
   "metadata": {
    "tags": []
   },
   "outputs": [
    {
     "name": "stdout",
     "output_type": "stream",
     "text": [
      "Recompensa media de los episodios: -9.930241584777832\n",
      "Longitud media de los episodios: 31.032\n",
      "\n"
     ]
    },
    {
     "data": {
      "image/png": "[encoded data removed]",
      "text/plain": [
       "<Figure size 1000x300 with 2 Axes>"
      ]
     },
     "metadata": {},
     "output_type": "display_data"
    }
   ],
   "source": [
    "visualiza_histograma_de_episodios(recompensas, longitudes)"
   ]
  },
  {
   "cell_type": "markdown",
   "id": "82610ebc-2ea8-404e-b760-a1de95e9fe58",
   "metadata": {},
   "source": [
    "Si repetimos el análisis considerando esta vez la política de ir siempre hacia arriba, observamos que tampoco es una buena política porque, aunque en general se obtienen recompensas mayores que con la anterior política, los episodios son, sin embargo, de mayor longitud (¿sabrías dar una explicación intuitiva de por qué ocurre esto?)."
   ]
  },
  {
   "cell_type": "code",
   "execution_count": 31,
   "id": "cb918d21-aa45-4107-9f5a-40eb3eb8c068",
   "metadata": {
    "tags": []
   },
   "outputs": [
    {
     "name": "stdout",
     "output_type": "stream",
     "text": [
      "[['↑' '↑' '↑' 'T']\n",
      " ['↑' 'X' '↑' '↑']\n",
      " ['↑' '↑' '↑' '↑']]\n"
     ]
    }
   ],
   "source": [
    "politica_siempre_arriba = np.full((4, 3), 0)\n",
    "print(representa_politica(politica_siempre_arriba))"
   ]
  },
  {
   "cell_type": "code",
   "execution_count": 32,
   "id": "0a6385bb-0745-4cce-b51f-b73f733794e0",
   "metadata": {
    "tags": []
   },
   "outputs": [
    {
     "name": "stderr",
     "output_type": "stream",
     "text": [
      "100%|██████████████████████████████████████████████████████████| 1000/1000 [00:02<00:00, 449.49it/s]\n"
     ]
    }
   ],
   "source": [
    "cuadricula_con_registro.reset(seed=3958723)\n",
    "recompensas, longitudes = ejecuta_entorno_cuadricula(cuadricula_con_registro,\n",
    "                                                     politica_siempre_arriba,\n",
    "                                                     num_episodios=1000)"
   ]
  },
  {
   "cell_type": "code",
   "execution_count": 33,
   "id": "e5641ea6-e64d-4c1b-bc29-5f60e2b97e81",
   "metadata": {
    "tags": []
   },
   "outputs": [
    {
     "name": "stdout",
     "output_type": "stream",
     "text": [
      "Recompensa media de los episodios: -2.511758804321289\n",
      "Longitud media de los episodios: 62.41\n",
      "\n"
     ]
    },
    {
     "data": {
      "image/png": "[encoded data removed]",
      "text/plain": [
       "<Figure size 1000x300 with 2 Axes>"
      ]
     },
     "metadata": {},
     "output_type": "display_data"
    }
   ],
   "source": [
    "visualiza_histograma_de_episodios(recompensas, longitudes)"
   ]
  },
  {
   "cell_type": "markdown",
   "id": "53be9182-c604-466f-904d-e2a43bb78fbc",
   "metadata": {},
   "source": [
    "## Algoritmos de programación dinámica"
   ]
  },
  {
   "cell_type": "markdown",
   "id": "dd7a4789-ec19-4bcd-80ec-76d416271e51",
   "metadata": {},
   "source": [
    "A continuación se pretende obtener una política óptima mediante la aplicación de los algoritmos de iteración de valores y de iteración de políticas. Para ello será necesario conocer el modelo de transición del entorno, algo para lo que no está pensada la interfaz propuesta por la biblioteca Gymnasium. Es por ello que nos vemos obligados a extender esa interfaz para que sea posible acceder a ese modelo de transición. Una forma adecuada podría ser implementar una clase de objetos que herede de `CuadriculaEnv`, lo que facilita el acceso a la información relativa al entorno."
   ]
  },
  {
   "cell_type": "code",
   "execution_count": 34,
   "id": "e4a461fa-f284-4a8f-8fc5-7b235e87cd13",
   "metadata": {
    "tags": []
   },
   "outputs": [],
   "source": [
    "class CuadriculaConModeloDeTransicionEnv(CuadriculaEnv):\n",
    "    def obten_probabilidades_de_transicion(self, accion):\n",
    "        P = np.zeros((4, 3, 4, 3))\n",
    "        movimientos = self.obten_posibles_movimientos(accion)\n",
    "        for x in range(4):\n",
    "            for y in range(3):\n",
    "                estado_actual = np.array([x, y])\n",
    "                if (np.array_equal(estado_actual, [1, 1]) or\n",
    "                    np.array_equal(estado_actual, [3, 2])):\n",
    "                    continue\n",
    "                for movimiento, probabilidad in zip(movimientos, [.8, .1, .1]):\n",
    "                    nuevo_estado = estado_actual + movimiento\n",
    "                    if (not self.espacio_de_estados.contains(nuevo_estado) or\n",
    "                        np.array_equal(nuevo_estado, [1, 1])):\n",
    "                        nuevo_estado = estado_actual\n",
    "                    P[tuple(estado_actual)][tuple(nuevo_estado)] += probabilidad\n",
    "        return P\n",
    "    \n",
    "    def obten_recompensas(self):\n",
    "        R = np.full((4, 3), -.04)\n",
    "        R[3, 1] = -1\n",
    "        R[1, 1] = 0\n",
    "        R[3, 2] = 0\n",
    "        return R"
   ]
  },
  {
   "cell_type": "markdown",
   "id": "20217dc3-92ce-4997-9cdc-e9c90cd5c40c",
   "metadata": {},
   "source": [
    "Cada instancia de esta clase de objetos permite, entonces, obtener las tablas de probabilidades de transición de cada acción y las recompensas asociadas a cada celda."
   ]
  },
  {
   "cell_type": "code",
   "execution_count": 35,
   "id": "427c22d0-e136-4115-9b94-da2112d80ff4",
   "metadata": {
    "tags": []
   },
   "outputs": [],
   "source": [
    "cuadricula_con_modelo = CuadriculaConModeloDeTransicionEnv()"
   ]
  },
  {
   "cell_type": "code",
   "execution_count": 36,
   "id": "06a62f2e-bd5a-4798-83a2-1852cc4fb047",
   "metadata": {
    "tags": []
   },
   "outputs": [
    {
     "name": "stdout",
     "output_type": "stream",
     "text": [
      "[[0.  0.  0.  0. ]\n",
      " [0.8 0.  0.  0. ]\n",
      " [0.1 0.1 0.  0. ]]\n",
      "[[0.  0.  0.  0. ]\n",
      " [0.  0.  0.  0. ]\n",
      " [0.1 0.8 0.1 0. ]]\n"
     ]
    }
   ],
   "source": [
    "P_arriba = cuadricula_con_modelo.obten_probabilidades_de_transicion(0)\n",
    "print(np.flipud(P_arriba[0, 0].T))\n",
    "print(np.flipud(P_arriba[1, 0].T))"
   ]
  },
  {
   "cell_type": "code",
   "execution_count": 37,
   "id": "6913e504-7294-4be6-a4da-be71a5f020ae",
   "metadata": {
    "tags": []
   },
   "outputs": [
    {
     "name": "stdout",
     "output_type": "stream",
     "text": [
      "[[0.  0.  0.  0. ]\n",
      " [0.  0.  0.  0. ]\n",
      " [0.9 0.1 0.  0. ]]\n",
      "[[0.  0.  0.  0. ]\n",
      " [0.  0.  0.  0. ]\n",
      " [0.1 0.8 0.1 0. ]]\n"
     ]
    }
   ],
   "source": [
    "P_abajo = cuadricula_con_modelo.obten_probabilidades_de_transicion(1)\n",
    "print(np.flipud(P_abajo[0, 0].T))\n",
    "print(np.flipud(P_abajo[1, 0].T))"
   ]
  },
  {
   "cell_type": "code",
   "execution_count": 38,
   "id": "2019e187-6388-46d4-9eea-99747a206da7",
   "metadata": {
    "tags": []
   },
   "outputs": [
    {
     "name": "stdout",
     "output_type": "stream",
     "text": [
      "[[0.  0.  0.  0. ]\n",
      " [0.1 0.  0.  0. ]\n",
      " [0.9 0.  0.  0. ]]\n",
      "[[0.  0.  0.  0. ]\n",
      " [0.  0.  0.  0. ]\n",
      " [0.8 0.2 0.  0. ]]\n"
     ]
    }
   ],
   "source": [
    "P_izquierda = cuadricula_con_modelo.obten_probabilidades_de_transicion(2)\n",
    "print(np.flipud(P_izquierda[0, 0].T))\n",
    "print(np.flipud(P_izquierda[1, 0].T))"
   ]
  },
  {
   "cell_type": "code",
   "execution_count": 39,
   "id": "51e1af8c-99c8-4fa3-89c6-d00e48900372",
   "metadata": {
    "tags": []
   },
   "outputs": [
    {
     "name": "stdout",
     "output_type": "stream",
     "text": [
      "[[0.  0.  0.  0. ]\n",
      " [0.1 0.  0.  0. ]\n",
      " [0.1 0.8 0.  0. ]]\n",
      "[[0.  0.  0.  0. ]\n",
      " [0.  0.  0.  0. ]\n",
      " [0.  0.2 0.8 0. ]]\n"
     ]
    }
   ],
   "source": [
    "P_derecha = cuadricula_con_modelo.obten_probabilidades_de_transicion(3)\n",
    "print(np.flipud(P_derecha[0, 0].T))\n",
    "print(np.flipud(P_derecha[1, 0].T))"
   ]
  },
  {
   "cell_type": "code",
   "execution_count": 40,
   "id": "b035616a-249f-4563-a65d-5eabbae3cdf0",
   "metadata": {
    "tags": []
   },
   "outputs": [
    {
     "name": "stdout",
     "output_type": "stream",
     "text": [
      "[[-0.04 -0.04 -0.04  0.  ]\n",
      " [-0.04  0.   -0.04 -1.  ]\n",
      " [-0.04 -0.04 -0.04 -0.04]]\n"
     ]
    }
   ],
   "source": [
    "R = cuadricula_con_modelo.obten_recompensas()\n",
    "print(np.flipud(R.T))"
   ]
  },
  {
   "cell_type": "markdown",
   "id": "3450fcf2-94ee-4104-b23f-382bf090e650",
   "metadata": {},
   "source": [
    "Para una mayor eficiencia, las implementaciones de los algoritmos de iteración de valores y de iteración de políticas hacen uso del álgebra matricial, apoyándose en la biblioteca Numpy."
   ]
  },
  {
   "cell_type": "code",
   "execution_count": 41,
   "id": "c9cf4396-c3cf-421d-8003-37d027fe5c27",
   "metadata": {
    "tags": []
   },
   "outputs": [],
   "source": [
    "class IteracionDeValores:\n",
    "    def __init__(self, entorno, gamma, epsilon):\n",
    "        self.gamma = gamma\n",
    "        self.epsilon = epsilon\n",
    "        self.probabilidades = [\n",
    "            entorno.obten_probabilidades_de_transicion(accion).reshape(12, 12)\n",
    "            for accion in range(4)\n",
    "        ]\n",
    "        self.recompensas = entorno.obten_recompensas().reshape(12, 1)\n",
    "        self.utilidades_estados = np.zeros((12, 1))\n",
    "    \n",
    "    def obten_utilidades_actualizadas(self):\n",
    "        return np.max(\n",
    "            np.concatenate(\n",
    "                [self.recompensas +\n",
    "                 self.gamma * P @ self.utilidades_estados\n",
    "                 for P in self.probabilidades],\n",
    "                axis=1\n",
    "            ),\n",
    "            axis=1, keepdims=True\n",
    "        )\n",
    "    \n",
    "    def obten_politica_voraz(self):\n",
    "        politica = np.argmax(\n",
    "            np.concatenate(\n",
    "                [self.recompensas +\n",
    "                 self.gamma * P @ self.utilidades_estados\n",
    "                 for P in self.probabilidades],\n",
    "                axis=1\n",
    "            ),\n",
    "            axis=1, keepdims=True\n",
    "        )\n",
    "        return politica.reshape(4, 3)\n",
    "    \n",
    "    def ejecuta_algoritmo(self, verboso=False):\n",
    "        i = 0\n",
    "        if verboso:\n",
    "            print('Utilidades iniciales de los estados:')\n",
    "            print(np.flipud(self.utilidades_estados.reshape(4, 3).T))\n",
    "        while True:\n",
    "            i += 1\n",
    "            nuevas_utilidades = self.obten_utilidades_actualizadas()\n",
    "            diferencia_entre_utilidades = np.linalg.norm(\n",
    "                self.utilidades_estados - nuevas_utilidades,\n",
    "                ord=np.inf\n",
    "            )\n",
    "            self.utilidades_estados = nuevas_utilidades\n",
    "            if verboso:\n",
    "                print()\n",
    "                print(f'Nuevas utilidades de los estados en la iteración {i}:')\n",
    "                print(np.flipud(self.utilidades_estados.reshape(4, 3).T))\n",
    "                print(f'Diferencia respecto a la iteración {i - 1}:',\n",
    "                      diferencia_entre_utilidades)\n",
    "            if diferencia_entre_utilidades < self.epsilon:\n",
    "                break\n",
    "        return self.obten_politica_voraz()"
   ]
  },
  {
   "cell_type": "code",
   "execution_count": 42,
   "id": "27da1ade-0260-405b-a06d-ba6dd3e7ddbc",
   "metadata": {
    "tags": []
   },
   "outputs": [],
   "source": [
    "class IteracionDePoliticas:\n",
    "    def __init__(self, entorno, gamma):\n",
    "        self.gamma = gamma\n",
    "        self.probabilidades = [\n",
    "            entorno.obten_probabilidades_de_transicion(accion).reshape(12, 12)\n",
    "            for accion in range(4)\n",
    "        ]\n",
    "        self.recompensas = entorno.obten_recompensas().reshape(12, 1)\n",
    "        self.politica = np.array(\n",
    "            [entorno.unwrapped.espacio_de_acciones.sample()\n",
    "             for _ in range(12)],\n",
    "            dtype='int'\n",
    "        )\n",
    "    \n",
    "    def obten_utilidades_inducidas(self):\n",
    "        A = np.stack([self.probabilidades[self.politica[s]][s, :]\n",
    "                      for s in range(12)])\n",
    "        A = np.identity(12) - self.gamma * A\n",
    "        return np.linalg.solve(A, self.recompensas)\n",
    "    \n",
    "    def obten_politica_voraz(self, utilidades_estados):\n",
    "        return np.argmax(\n",
    "            np.concatenate(\n",
    "                [self.recompensas +\n",
    "                 self.gamma * P @ utilidades_estados\n",
    "                 for P in self.probabilidades],\n",
    "                axis=1\n",
    "            ),\n",
    "            axis=1\n",
    "        )\n",
    "    \n",
    "    def ejecuta_algoritmo(self, verboso=False):\n",
    "        i = 0\n",
    "        if verboso:\n",
    "            print('Política inicial:')\n",
    "            print(representa_politica(self.politica.reshape(4, 3)))\n",
    "        while True:\n",
    "            utilidades_estados = self.obten_utilidades_inducidas()\n",
    "            if verboso:\n",
    "                print()\n",
    "                print(f'Utilidades inducida por la política de la iteración {i}:')\n",
    "                print(np.flipud(utilidades_estados.reshape(4, 3).T))\n",
    "            i += 1\n",
    "            nueva_politica = self.obten_politica_voraz(utilidades_estados)\n",
    "            if verboso:\n",
    "                print(f'Política voraz obtenida en la iteración {i}:')\n",
    "                print(representa_politica(nueva_politica.reshape(4, 3)))            \n",
    "            if np.array_equal(nueva_politica, self.politica):\n",
    "                break\n",
    "            self.politica = nueva_politica\n",
    "        return self.politica.reshape(4, 3)"
   ]
  },
  {
   "cell_type": "markdown",
   "id": "bf176e18-1ca4-47cc-b38d-05eb95a126ed",
   "metadata": {},
   "source": [
    "Ejecutamos el algoritmo de iteración de valores para obtener una política mejor que las políticas anteriores de ir siempre hacia la derecha o siempre hacia arriba."
   ]
  },
  {
   "cell_type": "code",
   "execution_count": 43,
   "id": "d03cacb7-3e3e-440b-bbb8-3b6c1f960c3e",
   "metadata": {
    "tags": []
   },
   "outputs": [],
   "source": [
    "iteracion_de_valores = IteracionDeValores(cuadricula_con_modelo, .9, 0.1)"
   ]
  },
  {
   "cell_type": "code",
   "execution_count": 44,
   "id": "113411d0-8064-49be-8b92-6dd535008617",
   "metadata": {
    "tags": []
   },
   "outputs": [
    {
     "name": "stdout",
     "output_type": "stream",
     "text": [
      "Utilidades iniciales de los estados:\n",
      "[[0. 0. 0. 0.]\n",
      " [0. 0. 0. 0.]\n",
      " [0. 0. 0. 0.]]\n",
      "\n",
      "Nuevas utilidades de los estados en la iteración 1:\n",
      "[[-0.04 -0.04 -0.04  0.  ]\n",
      " [-0.04  0.   -0.04 -1.  ]\n",
      " [-0.04 -0.04 -0.04 -0.04]]\n",
      "Diferencia respecto a la iteración 0: 1.0\n",
      "\n",
      "Nuevas utilidades de los estados en la iteración 2:\n",
      "[[-0.076  -0.076  -0.0472  0.    ]\n",
      " [-0.076   0.     -0.076  -1.0324]\n",
      " [-0.076  -0.076  -0.076  -0.076 ]]\n",
      "Diferencia respecto a la iteración 1: 0.03600000000000001\n"
     ]
    }
   ],
   "source": [
    "politica_iv = iteracion_de_valores.ejecuta_algoritmo(verboso=True)"
   ]
  },
  {
   "cell_type": "code",
   "execution_count": 45,
   "id": "fca0b91e-f948-4825-a810-3ee0181002f9",
   "metadata": {
    "tags": []
   },
   "outputs": [
    {
     "name": "stdout",
     "output_type": "stream",
     "text": [
      "[['↑' '→' '→' 'T']\n",
      " ['↑' 'X' '←' '←']\n",
      " ['↑' '↑' '↑' '↓']]\n"
     ]
    }
   ],
   "source": [
    "print(representa_politica(politica_iv))"
   ]
  },
  {
   "cell_type": "code",
   "execution_count": 46,
   "id": "d3250dd0-da2b-4f5c-a2b8-dedbbf104da8",
   "metadata": {
    "tags": []
   },
   "outputs": [
    {
     "name": "stderr",
     "output_type": "stream",
     "text": [
      "/home/alvaro/Compartidos/Universidad/IAIS-2023-24/Contenido práctico/Entorno.nosync/lib/python3.11/site-packages/gymnasium/core.py:297: UserWarning: \u001b[33mWARN: env.num_envs to get variables from other wrappers is deprecated and will be removed in v1.0, to get this variable you can do `env.unwrapped.num_envs` for environment variables or `env.get_attr('num_envs')` that will search the reminding wrappers.\u001b[0m\n",
      "  logger.warn(\n"
     ]
    }
   ],
   "source": [
    "cuadricula_con_modelo_y_registro = RecordEpisodeStatistics(\n",
    "    cuadricula_con_modelo,\n",
    "    deque_size=1000\n",
    ")"
   ]
  },
  {
   "cell_type": "code",
   "execution_count": 47,
   "id": "93b77b59-d1d2-496c-8433-7732cfd3c56b",
   "metadata": {
    "tags": []
   },
   "outputs": [
    {
     "name": "stderr",
     "output_type": "stream",
     "text": [
      "100%|█████████████████████████████████████████████████████████| 1000/1000 [00:00<00:00, 1536.83it/s]\n"
     ]
    },
    {
     "name": "stdout",
     "output_type": "stream",
     "text": [
      "Recompensa media de los episodios: -0.6837999224662781\n",
      "Longitud media de los episodios: 17.095\n",
      "\n"
     ]
    },
    {
     "data": {
      "image/png": "[encoded data removed]",
      "text/plain": [
       "<Figure size 1000x300 with 2 Axes>"
      ]
     },
     "metadata": {},
     "output_type": "display_data"
    }
   ],
   "source": [
    "cuadricula_con_modelo_y_registro.reset(seed=3958723)\n",
    "recompensas, longitudes = ejecuta_entorno_cuadricula(\n",
    "    cuadricula_con_modelo_y_registro,\n",
    "    politica_iv,\n",
    "    num_episodios=1000\n",
    ")\n",
    "visualiza_histograma_de_episodios(recompensas, longitudes)"
   ]
  },
  {
   "cell_type": "markdown",
   "id": "c855bb99-4a30-4285-ba2a-6bac77932532",
   "metadata": {},
   "source": [
    "La política obtenida, sin embargo, no es una política óptima, ya que el valor de $\\epsilon$ proporcionado ha sido demasiado grande para alcanzar una aproximación suficiente de la función de utilidad máxima de los estados. Ejecutamos ahora el algoritmo de iteración de políticas para obtener una política óptima."
   ]
  },
  {
   "cell_type": "code",
   "execution_count": 48,
   "id": "a8b19972-d7c2-46d0-83ff-d3245faf1549",
   "metadata": {
    "tags": []
   },
   "outputs": [],
   "source": [
    "iteracion_de_politicas = IteracionDePoliticas(cuadricula_con_modelo, 0.9)"
   ]
  },
  {
   "cell_type": "code",
   "execution_count": 49,
   "id": "65f5ddc5-fe8a-44c2-b930-fdaa10c4bdd1",
   "metadata": {
    "tags": []
   },
   "outputs": [
    {
     "name": "stdout",
     "output_type": "stream",
     "text": [
      "Política inicial:\n",
      "[['→' '↓' '↑' 'T']\n",
      " ['→' 'X' '↑' '↑']\n",
      " ['↑' '→' '←' '↑']]\n",
      "\n",
      "Utilidades inducida por la política de la iteración 0:\n",
      "[[-0.34579535 -0.3344814  -0.25036902  0.        ]\n",
      " [-0.37607949  0.         -0.3541973  -1.1339316 ]\n",
      " [-0.3797853  -0.38697096 -0.38516137 -0.97922558]]\n",
      "Política voraz obtenida en la iteración 1:\n",
      "[['→' '→' '→' 'T']\n",
      " ['↑' 'X' '←' '↑']\n",
      " ['↑' '←' '←' '←']]\n",
      "\n",
      "Utilidades inducida por la política de la iteración 1:\n",
      "[[-0.14760435 -0.10870191 -0.06824384  0.        ]\n",
      " [-0.17838431  0.         -0.24557659 -1.12318889]\n",
      " [-0.20798077 -0.23139775 -0.25132777 -0.3538934 ]]\n",
      "Política voraz obtenida en la iteración 2:\n",
      "[['→' '→' '→' 'T']\n",
      " ['↑' 'X' '↑' '↑']\n",
      " ['↑' '←' '←' '↓']]\n",
      "\n",
      "Utilidades inducida por la política de la iteración 2:\n",
      "[[-0.14458952 -0.10522239 -0.06428106  0.        ]\n",
      " [-0.17573714  0.         -0.20550847 -1.11922611]\n",
      " [-0.20568713 -0.22938382 -0.24577155 -0.32694442]]\n",
      "Política voraz obtenida en la iteración 3:\n",
      "[['→' '→' '→' 'T']\n",
      " ['↑' 'X' '↑' '↑']\n",
      " ['↑' '←' '↑' '↓']]\n",
      "\n",
      "Utilidades inducida por la política de la iteración 3:\n",
      "[[-0.14458952 -0.10522239 -0.06428106  0.        ]\n",
      " [-0.17573714  0.         -0.20550847 -1.11922611]\n",
      " [-0.20568713 -0.22938382 -0.23769116 -0.32311687]]\n",
      "Política voraz obtenida en la iteración 4:\n",
      "[['→' '→' '→' 'T']\n",
      " ['↑' 'X' '↑' '↑']\n",
      " ['↑' '←' '↑' '↓']]\n"
     ]
    }
   ],
   "source": [
    "politica_ip = iteracion_de_politicas.ejecuta_algoritmo(verboso=True)"
   ]
  },
  {
   "cell_type": "code",
   "execution_count": 50,
   "id": "cc25da3a-c7ca-421a-83bc-2ce06a61d294",
   "metadata": {
    "tags": []
   },
   "outputs": [
    {
     "name": "stdout",
     "output_type": "stream",
     "text": [
      "[['→' '→' '→' 'T']\n",
      " ['↑' 'X' '↑' '↑']\n",
      " ['↑' '←' '↑' '↓']]\n"
     ]
    }
   ],
   "source": [
    "print(representa_politica(politica_ip))"
   ]
  },
  {
   "cell_type": "code",
   "execution_count": 51,
   "id": "e49cf946-2f25-49a1-b6fe-aebf94c9ef6c",
   "metadata": {
    "tags": []
   },
   "outputs": [
    {
     "name": "stderr",
     "output_type": "stream",
     "text": [
      "100%|█████████████████████████████████████████████████████████| 1000/1000 [00:00<00:00, 3190.59it/s]\n"
     ]
    },
    {
     "name": "stdout",
     "output_type": "stream",
     "text": [
      "Recompensa media de los episodios: -0.2820799946784973\n",
      "Longitud media de los episodios: 6.668\n",
      "\n"
     ]
    },
    {
     "data": {
      "image/png": "[encoded data removed]",
      "text/plain": [
       "<Figure size 1000x300 with 2 Axes>"
      ]
     },
     "metadata": {},
     "output_type": "display_data"
    }
   ],
   "source": [
    "cuadricula_con_modelo_y_registro.reset(seed=3958723)\n",
    "recompensas, longitudes = ejecuta_entorno_cuadricula(\n",
    "    cuadricula_con_modelo_y_registro,\n",
    "    politica_ip,\n",
    "    num_episodios=1000\n",
    ")\n",
    "visualiza_histograma_de_episodios(recompensas, longitudes)"
   ]
  },
  {
   "cell_type": "markdown",
   "id": "9d7678f3-cc44-45e5-8f42-61a032b5bf51",
   "metadata": {},
   "source": [
    "## Algoritmos de aprendizaje por refuerzo"
   ]
  },
  {
   "cell_type": "markdown",
   "id": "6dd6eede-695c-4416-b968-66c1599bee2e",
   "metadata": {},
   "source": [
    "Los algoritmos de aprendizaje por refuerzo no necesitan conocer el modelo de transición del entorno. En su lugar aprenden una política a partir de la interacción con el entorno, para lo que les basta la interfaz de generación de episodios mediante los métodos `reset` y `step` propuesta por la biblioteca Gymnasium."
   ]
  },
  {
   "cell_type": "markdown",
   "id": "e0c2040e-1b13-46f9-95ba-ef87903c29a0",
   "metadata": {},
   "source": [
    "Es costumbre en el campo del aprendizaje por refuerzo el considerar que se dispone de un agente que interacciona con el entorno siguiendo una determinada política, aprendiendo a mejorar esta según los resultados de esa interacción. Un agente Montecarlo aprendería a partir de episodios completos, mientras que un agente Q-learning aprendería en cada paso de cada episodio."
   ]
  },
  {
   "cell_type": "code",
   "execution_count": 52,
   "id": "276e77af-d2f9-494d-8ed5-763e19ca6f9b",
   "metadata": {
    "tags": []
   },
   "outputs": [],
   "source": [
    "class AgenteMontecarlo:\n",
    "    def __init__(self, entorno, gamma):\n",
    "        self.entorno = entorno\n",
    "        self.gamma = gamma\n",
    "        self.politica = np.empty((4, 3), dtype='int')\n",
    "        for x in range(4):\n",
    "            for y in range(3):\n",
    "                accion = entorno.unwrapped.espacio_de_acciones.sample()\n",
    "                self.politica[x, y] = accion        \n",
    "        self.tabla_q = np.zeros((4, 3, 4))\n",
    "        self.Racum = np.empty((4, 3, 4), dtype=object)\n",
    "        for x in range(4):\n",
    "            for y in range(3):\n",
    "                for a in range(4):\n",
    "                    self.Racum[x, y, a] = []\n",
    "    \n",
    "    def _representa_Racum(self):\n",
    "        def representa_celda(lista_recompensas):\n",
    "            return ('[' +\n",
    "                    ' '.join(f'{recompensa:.2}'\n",
    "                             for recompensa in lista_recompensas) +\n",
    "                    ']')\n",
    "        representa_celda = np.vectorize(representa_celda)\n",
    "        return representa_celda(self.Racum.reshape(12, 4))\n",
    "    \n",
    "    def actualiza_tabla_q(self, estado, accion, recompensas):\n",
    "        utilidad = np.sum(self.gamma ** np.arange(len(recompensas)) *\n",
    "                          recompensas)\n",
    "        self.Racum[tuple(estado)][accion].append(utilidad)\n",
    "        self.tabla_q[tuple(estado)][accion] = np.mean(\n",
    "            self.Racum[tuple(estado)][accion]\n",
    "        )\n",
    "        self.politica[tuple(estado)] = np.argmax(self.tabla_q[tuple(estado)])        \n",
    "    \n",
    "    def ejecuta_algoritmo(self, num_episodios, cada_visita=False, verboso=False):\n",
    "        if verboso:\n",
    "            print('Tabla inicial de recompensas acumuladas (con redondeo):')\n",
    "            print(self._representa_Racum())\n",
    "            print('Tabla Q inicial:')\n",
    "            print(self.tabla_q.reshape(12, 4))\n",
    "            print('Política inicialmente aprendida:')\n",
    "            print(representa_politica(self.politica))\n",
    "        episodios = (range(1, num_episodios + 1) if verboso\n",
    "                     else tqdm(range(1, num_episodios + 1), ncols=100))\n",
    "        for episodio in episodios:\n",
    "            if verboso:\n",
    "                print()\n",
    "                print()\n",
    "                print(f'Ejecución del episodio {episodio}:')\n",
    "            estados = []\n",
    "            acciones = []\n",
    "            recompensas = []\n",
    "            estado, _ = self.entorno.reset(options={'aleatorio': True})\n",
    "            if verboso:\n",
    "                print()\n",
    "                print(f'Estado inicial: {estado}')\n",
    "            accion = self.entorno.unwrapped.espacio_de_acciones.sample()\n",
    "            while True:\n",
    "                (nuevo_estado, recompensa,\n",
    "                 terminado, truncado, _) = self.entorno.step(accion)\n",
    "                if verboso:\n",
    "                    print(f'Acción: {representa_accion(accion)}',\n",
    "                          f'   Recompensa: {recompensa:.2f}',\n",
    "                          f'   Nuevo estado: {nuevo_estado}')\n",
    "                estados.append(estado)\n",
    "                acciones.append(accion)\n",
    "                recompensas.append(recompensa)\n",
    "                if terminado or truncado:\n",
    "                    break\n",
    "                estado = nuevo_estado\n",
    "                accion = self.politica[tuple(estado)]\n",
    "            if verboso:\n",
    "                print()\n",
    "                print('Actualización de las tablas y la política:')\n",
    "            primera_visita = np.full((4, 3, 4), True)\n",
    "            for i, (estado, accion) in enumerate(zip(estados, acciones)):\n",
    "                if verboso:\n",
    "                    print(f'Estado: {estado}',\n",
    "                          f'  Acción: {representa_accion(accion)}')\n",
    "                    if not cada_visita:\n",
    "                        print('Es primera visita'\n",
    "                              if primera_visita[tuple(estado)][accion]\n",
    "                              else 'No es primera visita')\n",
    "                if cada_visita or primera_visita[tuple(estado)][accion]:\n",
    "                    primera_visita[tuple(estado)][accion] = False\n",
    "                    self.actualiza_tabla_q(estado, accion, recompensas[i:])\n",
    "                    if verboso:\n",
    "                        print('Tabla de recompensas acumuladas (con redondeo):')\n",
    "                        print(self._representa_Racum())\n",
    "                        print('Tabla Q:')\n",
    "                        print(self.tabla_q.reshape(12, 4))\n",
    "                        print('Política aprendida:')\n",
    "                        print(representa_politica(self.politica))\n",
    "        return self.politica"
   ]
  },
  {
   "cell_type": "code",
   "execution_count": 53,
   "id": "d812ae0a-00e6-4926-be4d-db0c11b0798d",
   "metadata": {
    "tags": []
   },
   "outputs": [],
   "source": [
    "class AgenteQLearning:\n",
    "    def __init__(self, entorno, gamma, alfa, epsilon):\n",
    "        self.entorno = entorno\n",
    "        self.gamma = gamma\n",
    "        self.alfa = alfa\n",
    "        self.epsilon = epsilon\n",
    "        self.tabla_q = np.zeros((4, 3, 4))\n",
    "    \n",
    "    def elige_accion(self, estado):\n",
    "        espacio_de_acciones = self.entorno.unwrapped.espacio_de_acciones\n",
    "        if self.entorno.np_random.random() < self.epsilon:\n",
    "            accion_elegida = espacio_de_acciones.sample()\n",
    "            aleatoria = True\n",
    "        else:\n",
    "            accion_elegida = np.argmax(self.tabla_q[tuple(estado)])\n",
    "            aleatoria = False\n",
    "        return accion_elegida, aleatoria\n",
    "    \n",
    "    def actualiza_tabla_q(self, estado, accion, recompensa, nuevo_estado):\n",
    "        diferencia_temporal = (\n",
    "            recompensa + \n",
    "            self.gamma * np.max(self.tabla_q[tuple(nuevo_estado)]) -\n",
    "            self.tabla_q[tuple(estado)][accion]\n",
    "        )\n",
    "        self.tabla_q[tuple(estado)][accion] += self.alfa * diferencia_temporal\n",
    "    \n",
    "    def ejecuta_algoritmo(self, num_episodios, verboso=False):\n",
    "        episodios = (range(1, num_episodios + 1) if verboso\n",
    "                     else tqdm(range(1, num_episodios + 1), ncols=100))\n",
    "        for episodio in episodios:\n",
    "            if verboso:\n",
    "                if episodio > 1:\n",
    "                    print()\n",
    "                    print()\n",
    "                print(f'Ejecución del episodio {episodio}:')\n",
    "            estado, _ = self.entorno.reset()\n",
    "            if verboso:\n",
    "                print()\n",
    "                print(f'Estado inicial: {estado}')\n",
    "                print('Tabla Q inicial:')\n",
    "                print(self.tabla_q.reshape(12, 4))\n",
    "                print('Política inicialmente aprendida:')\n",
    "                print(representa_politica(np.argmax(self.tabla_q, axis=2)))\n",
    "            while True:\n",
    "                accion, aleatoria = self.elige_accion(estado)\n",
    "                (nuevo_estado, recompensa,\n",
    "                 terminado, truncado, _) = self.entorno.step(accion)\n",
    "                self.actualiza_tabla_q(estado, accion, recompensa, nuevo_estado)\n",
    "                if verboso:\n",
    "                    print()\n",
    "                    print(f'Acción: {representa_accion(accion)}',\n",
    "                          '(aleatoria)' if aleatoria else '(voraz)',\n",
    "                          f'   Recompensa: {recompensa:.2f}',\n",
    "                          f'   Nuevo estado: {nuevo_estado}')\n",
    "                    print('Tabla Q actual:')\n",
    "                    print(self.tabla_q.reshape(12, 4))\n",
    "                    print('Política actualmente aprendida:')\n",
    "                    print(representa_politica(np.argmax(self.tabla_q, axis=2)))\n",
    "                if terminado or truncado:\n",
    "                    break\n",
    "                estado = nuevo_estado\n",
    "        return np.argmax(self.tabla_q, axis=2)"
   ]
  },
  {
   "cell_type": "markdown",
   "id": "150aff45-6d31-498e-88dd-242c7e45106a",
   "metadata": {},
   "source": [
    "Puesto que los episodios generados, sobre todo inicialmente, pueden ser demasiado largos, para el agente Montecarlo es conveniente limitar su longitud mediante la envoltura `TimeLimit` (nótese que el límite 20 usado aquí es excesivamente pequeño, habiéndose elegido así para poder mostrar la traza del algoritmo en un espacio reducido)."
   ]
  },
  {
   "cell_type": "code",
   "execution_count": 54,
   "id": "fe3ce881-a5fb-4d66-a31a-62f51fbc83cf",
   "metadata": {
    "tags": []
   },
   "outputs": [],
   "source": [
    "cuadricula_con_tiempo_limite_y_registro = RecordEpisodeStatistics(\n",
    "    TimeLimit(\n",
    "        cuadricula,\n",
    "        max_episode_steps=20\n",
    "    ),\n",
    "    deque_size=1000\n",
    ")"
   ]
  },
  {
   "cell_type": "code",
   "execution_count": 55,
   "id": "221cf49d-85c7-483d-a6ce-487fca71a4b1",
   "metadata": {
    "tags": []
   },
   "outputs": [],
   "source": [
    "cuadricula_con_tiempo_limite_y_registro.reset(seed=3958723)\n",
    "agente = AgenteMontecarlo(cuadricula_con_tiempo_limite_y_registro,\n",
    "                          gamma=0.9)"
   ]
  },
  {
   "cell_type": "code",
   "execution_count": 56,
   "id": "4cc9ed6d-e515-48c0-867d-36128cfa7caa",
   "metadata": {},
   "outputs": [
    {
     "name": "stdout",
     "output_type": "stream",
     "text": [
      "Tabla inicial de recompensas acumuladas (con redondeo):\n",
      "[['[]' '[]' '[]' '[]']\n",
      " ['[]' '[]' '[]' '[]']\n",
      " ['[]' '[]' '[]' '[]']\n",
      " ['[]' '[]' '[]' '[]']\n",
      " ['[]' '[]' '[]' '[]']\n",
      " ['[]' '[]' '[]' '[]']\n",
      " ['[]' '[]' '[]' '[]']\n",
      " ['[]' '[]' '[]' '[]']\n",
      " ['[]' '[]' '[]' '[]']\n",
      " ['[]' '[]' '[]' '[]']\n",
      " ['[]' '[]' '[]' '[]']\n",
      " ['[]' '[]' '[]' '[]']]\n",
      "Tabla Q inicial:\n",
      "[[0. 0. 0. 0.]\n",
      " [0. 0. 0. 0.]\n",
      " [0. 0. 0. 0.]\n",
      " [0. 0. 0. 0.]\n",
      " [0. 0. 0. 0.]\n",
      " [0. 0. 0. 0.]\n",
      " [0. 0. 0. 0.]\n",
      " [0. 0. 0. 0.]\n",
      " [0. 0. 0. 0.]\n",
      " [0. 0. 0. 0.]\n",
      " [0. 0. 0. 0.]\n",
      " [0. 0. 0. 0.]]\n",
      "Política inicialmente aprendida:\n",
      "[['→' '↓' '↑' 'T']\n",
      " ['→' 'X' '↑' '↑']\n",
      " ['↑' '→' '←' '↑']]\n",
      "\n",
      "\n",
      "Ejecución del episodio 1:\n",
      "\n",
      "Estado inicial: [1 0]\n",
      "Acción: ←    Recompensa: -0.04    Nuevo estado: [1 0]\n",
      "Acción: →    Recompensa: -0.04    Nuevo estado: [1 0]\n",
      "Acción: →    Recompensa: -0.04    Nuevo estado: [2 0]\n",
      "Acción: ←    Recompensa: -0.04    Nuevo estado: [1 0]\n",
      "Acción: →    Recompensa: -0.04    Nuevo estado: [2 0]\n",
      "Acción: ←    Recompensa: -0.04    Nuevo estado: [1 0]\n",
      "Acción: →    Recompensa: -0.04    Nuevo estado: [2 0]\n",
      "Acción: ←    Recompensa: -0.04    Nuevo estado: [1 0]\n",
      "Acción: →    Recompensa: -0.04    Nuevo estado: [2 0]\n",
      "Acción: ←    Recompensa: -0.04    Nuevo estado: [1 0]\n",
      "Acción: →    Recompensa: -0.04    Nuevo estado: [2 0]\n",
      "Acción: ←    Recompensa: -0.04    Nuevo estado: [2 0]\n",
      "Acción: ←    Recompensa: -0.04    Nuevo estado: [1 0]\n",
      "Acción: →    Recompensa: -0.04    Nuevo estado: [2 0]\n",
      "Acción: ←    Recompensa: -0.04    Nuevo estado: [1 0]\n",
      "Acción: →    Recompensa: -0.04    Nuevo estado: [1 0]\n",
      "Acción: →    Recompensa: -0.04    Nuevo estado: [2 0]\n",
      "Acción: ←    Recompensa: -0.04    Nuevo estado: [2 1]\n",
      "Acción: ↑    Recompensa: -0.04    Nuevo estado: [3 1]\n",
      "Acción: ↑    Recompensa: -1.00    Nuevo estado: [3 2]\n",
      "\n",
      "Actualización de las tablas y la política:\n",
      "Estado: [1 0]   Acción: ←\n",
      "Es primera visita\n",
      "Tabla de recompensas acumuladas (con redondeo):\n",
      "[['[]' '[]' '[]' '[]']\n",
      " ['[]' '[]' '[]' '[]']\n",
      " ['[]' '[]' '[]' '[]']\n",
      " ['[]' '[]' '[-0.48]' '[]']\n",
      " ['[]' '[]' '[]' '[]']\n",
      " ['[]' '[]' '[]' '[]']\n",
      " ['[]' '[]' '[]' '[]']\n",
      " ['[]' '[]' '[]' '[]']\n",
      " ['[]' '[]' '[]' '[]']\n",
      " ['[]' '[]' '[]' '[]']\n",
      " ['[]' '[]' '[]' '[]']\n",
      " ['[]' '[]' '[]' '[]']]\n",
      "Tabla Q:\n",
      "[[ 0.         0.         0.         0.       ]\n",
      " [ 0.         0.         0.         0.       ]\n",
      " [ 0.         0.         0.         0.       ]\n",
      " [ 0.         0.        -0.4810511  0.       ]\n",
      " [ 0.         0.         0.         0.       ]\n",
      " [ 0.         0.         0.         0.       ]\n",
      " [ 0.         0.         0.         0.       ]\n",
      " [ 0.         0.         0.         0.       ]\n",
      " [ 0.         0.         0.         0.       ]\n",
      " [ 0.         0.         0.         0.       ]\n",
      " [ 0.         0.         0.         0.       ]\n",
      " [ 0.         0.         0.         0.       ]]\n",
      "Política aprendida:\n",
      "[['→' '↓' '↑' 'T']\n",
      " ['→' 'X' '↑' '↑']\n",
      " ['↑' '↑' '←' '↑']]\n",
      "Estado: [1 0]   Acción: →\n",
      "Es primera visita\n",
      "Tabla de recompensas acumuladas (con redondeo):\n",
      "[['[]' '[]' '[]' '[]']\n",
      " ['[]' '[]' '[]' '[]']\n",
      " ['[]' '[]' '[]' '[]']\n",
      " ['[]' '[]' '[-0.48]' '[-0.49]']\n",
      " ['[]' '[]' '[]' '[]']\n",
      " ['[]' '[]' '[]' '[]']\n",
      " ['[]' '[]' '[]' '[]']\n",
      " ['[]' '[]' '[]' '[]']\n",
      " ['[]' '[]' '[]' '[]']\n",
      " ['[]' '[]' '[]' '[]']\n",
      " ['[]' '[]' '[]' '[]']\n",
      " ['[]' '[]' '[]' '[]']]\n",
      "Tabla Q:\n",
      "[[ 0.          0.          0.          0.        ]\n",
      " [ 0.          0.          0.          0.        ]\n",
      " [ 0.          0.          0.          0.        ]\n",
      " [ 0.          0.         -0.4810511  -0.49005678]\n",
      " [ 0.          0.          0.          0.        ]\n",
      " [ 0.          0.          0.          0.        ]\n",
      " [ 0.          0.          0.          0.        ]\n",
      " [ 0.          0.          0.          0.        ]\n",
      " [ 0.          0.          0.          0.        ]\n",
      " [ 0.          0.          0.          0.        ]\n",
      " [ 0.          0.          0.          0.        ]\n",
      " [ 0.          0.          0.          0.        ]]\n",
      "Política aprendida:\n",
      "[['→' '↓' '↑' 'T']\n",
      " ['→' 'X' '↑' '↑']\n",
      " ['↑' '↑' '←' '↑']]\n",
      "Estado: [1 0]   Acción: →\n",
      "No es primera visita\n",
      "Estado: [2 0]   Acción: ←\n",
      "Es primera visita\n",
      "Tabla de recompensas acumuladas (con redondeo):\n",
      "[['[]' '[]' '[]' '[]']\n",
      " ['[]' '[]' '[]' '[]']\n",
      " ['[]' '[]' '[]' '[]']\n",
      " ['[]' '[]' '[-0.48]' '[-0.49]']\n",
      " ['[]' '[]' '[]' '[]']\n",
      " ['[]' '[]' '[]' '[]']\n",
      " ['[]' '[]' '[-0.51]' '[]']\n",
      " ['[]' '[]' '[]' '[]']\n",
      " ['[]' '[]' '[]' '[]']\n",
      " ['[]' '[]' '[]' '[]']\n",
      " ['[]' '[]' '[]' '[]']\n",
      " ['[]' '[]' '[]' '[]']]\n",
      "Tabla Q:\n",
      "[[ 0.          0.          0.          0.        ]\n",
      " [ 0.          0.          0.          0.        ]\n",
      " [ 0.          0.          0.          0.        ]\n",
      " [ 0.          0.         -0.4810511  -0.49005678]\n",
      " [ 0.          0.          0.          0.        ]\n",
      " [ 0.          0.          0.          0.        ]\n",
      " [ 0.          0.         -0.51118121  0.        ]\n",
      " [ 0.          0.          0.          0.        ]\n",
      " [ 0.          0.          0.          0.        ]\n",
      " [ 0.          0.          0.          0.        ]\n",
      " [ 0.          0.          0.          0.        ]\n",
      " [ 0.          0.          0.          0.        ]]\n",
      "Política aprendida:\n",
      "[['→' '↓' '↑' 'T']\n",
      " ['→' 'X' '↑' '↑']\n",
      " ['↑' '↑' '↑' '↑']]\n",
      "Estado: [1 0]   Acción: →\n",
      "No es primera visita\n",
      "Estado: [2 0]   Acción: ←\n",
      "No es primera visita\n",
      "Estado: [1 0]   Acción: →\n",
      "No es primera visita\n",
      "Estado: [2 0]   Acción: ←\n",
      "No es primera visita\n",
      "Estado: [1 0]   Acción: →\n",
      "No es primera visita\n",
      "Estado: [2 0]   Acción: ←\n",
      "No es primera visita\n",
      "Estado: [1 0]   Acción: →\n",
      "No es primera visita\n",
      "Estado: [2 0]   Acción: ←\n",
      "No es primera visita\n",
      "Estado: [2 0]   Acción: ←\n",
      "No es primera visita\n",
      "Estado: [1 0]   Acción: →\n",
      "No es primera visita\n",
      "Estado: [2 0]   Acción: ←\n",
      "No es primera visita\n",
      "Estado: [1 0]   Acción: →\n",
      "No es primera visita\n",
      "Estado: [1 0]   Acción: →\n",
      "No es primera visita\n",
      "Estado: [2 0]   Acción: ←\n",
      "No es primera visita\n",
      "Estado: [2 1]   Acción: ↑\n",
      "Es primera visita\n",
      "Tabla de recompensas acumuladas (con redondeo):\n",
      "[['[]' '[]' '[]' '[]']\n",
      " ['[]' '[]' '[]' '[]']\n",
      " ['[]' '[]' '[]' '[]']\n",
      " ['[]' '[]' '[-0.48]' '[-0.49]']\n",
      " ['[]' '[]' '[]' '[]']\n",
      " ['[]' '[]' '[]' '[]']\n",
      " ['[]' '[]' '[-0.51]' '[]']\n",
      " ['[-0.94]' '[]' '[]' '[]']\n",
      " ['[]' '[]' '[]' '[]']\n",
      " ['[]' '[]' '[]' '[]']\n",
      " ['[]' '[]' '[]' '[]']\n",
      " ['[]' '[]' '[]' '[]']]\n",
      "Tabla Q:\n",
      "[[ 0.          0.          0.          0.        ]\n",
      " [ 0.          0.          0.          0.        ]\n",
      " [ 0.          0.          0.          0.        ]\n",
      " [ 0.          0.         -0.4810511  -0.49005678]\n",
      " [ 0.          0.          0.          0.        ]\n",
      " [ 0.          0.          0.          0.        ]\n",
      " [ 0.          0.         -0.51118121  0.        ]\n",
      " [-0.94        0.          0.          0.        ]\n",
      " [ 0.          0.          0.          0.        ]\n",
      " [ 0.          0.          0.          0.        ]\n",
      " [ 0.          0.          0.          0.        ]\n",
      " [ 0.          0.          0.          0.        ]]\n",
      "Política aprendida:\n",
      "[['→' '↓' '↑' 'T']\n",
      " ['→' 'X' '↓' '↑']\n",
      " ['↑' '↑' '↑' '↑']]\n",
      "Estado: [3 1]   Acción: ↑\n",
      "Es primera visita\n",
      "Tabla de recompensas acumuladas (con redondeo):\n",
      "[['[]' '[]' '[]' '[]']\n",
      " ['[]' '[]' '[]' '[]']\n",
      " ['[]' '[]' '[]' '[]']\n",
      " ['[]' '[]' '[-0.48]' '[-0.49]']\n",
      " ['[]' '[]' '[]' '[]']\n",
      " ['[]' '[]' '[]' '[]']\n",
      " ['[]' '[]' '[-0.51]' '[]']\n",
      " ['[-0.94]' '[]' '[]' '[]']\n",
      " ['[]' '[]' '[]' '[]']\n",
      " ['[]' '[]' '[]' '[]']\n",
      " ['[-1.0]' '[]' '[]' '[]']\n",
      " ['[]' '[]' '[]' '[]']]\n",
      "Tabla Q:\n",
      "[[ 0.          0.          0.          0.        ]\n",
      " [ 0.          0.          0.          0.        ]\n",
      " [ 0.          0.          0.          0.        ]\n",
      " [ 0.          0.         -0.4810511  -0.49005678]\n",
      " [ 0.          0.          0.          0.        ]\n",
      " [ 0.          0.          0.          0.        ]\n",
      " [ 0.          0.         -0.51118121  0.        ]\n",
      " [-0.94        0.          0.          0.        ]\n",
      " [ 0.          0.          0.          0.        ]\n",
      " [ 0.          0.          0.          0.        ]\n",
      " [-1.          0.          0.          0.        ]\n",
      " [ 0.          0.          0.          0.        ]]\n",
      "Política aprendida:\n",
      "[['→' '↓' '↑' 'T']\n",
      " ['→' 'X' '↓' '↓']\n",
      " ['↑' '↑' '↑' '↑']]\n"
     ]
    },
    {
     "data": {
      "text/plain": [
       "array([[0, 3, 3],\n",
       "       [0, 0, 1],\n",
       "       [0, 1, 0],\n",
       "       [0, 1, 1]])"
      ]
     },
     "execution_count": 56,
     "metadata": {},
     "output_type": "execute_result"
    }
   ],
   "source": [
    "agente.ejecuta_algoritmo(num_episodios=1, verboso=True)"
   ]
  },
  {
   "cell_type": "code",
   "execution_count": 57,
   "id": "83010fab-f66e-4a00-ba7c-48821b9b2b3d",
   "metadata": {},
   "outputs": [
    {
     "name": "stdout",
     "output_type": "stream",
     "text": [
      "Tabla inicial de recompensas acumuladas (con redondeo):\n",
      "[['[]' '[]' '[]' '[]']\n",
      " ['[]' '[]' '[]' '[]']\n",
      " ['[]' '[]' '[]' '[]']\n",
      " ['[]' '[]' '[-0.48]' '[-0.49]']\n",
      " ['[]' '[]' '[]' '[]']\n",
      " ['[]' '[]' '[]' '[]']\n",
      " ['[]' '[]' '[-0.51]' '[]']\n",
      " ['[-0.94]' '[]' '[]' '[]']\n",
      " ['[]' '[]' '[]' '[]']\n",
      " ['[]' '[]' '[]' '[]']\n",
      " ['[-1.0]' '[]' '[]' '[]']\n",
      " ['[]' '[]' '[]' '[]']]\n",
      "Tabla Q inicial:\n",
      "[[ 0.          0.          0.          0.        ]\n",
      " [ 0.          0.          0.          0.        ]\n",
      " [ 0.          0.          0.          0.        ]\n",
      " [ 0.          0.         -0.4810511  -0.49005678]\n",
      " [ 0.          0.          0.          0.        ]\n",
      " [ 0.          0.          0.          0.        ]\n",
      " [ 0.          0.         -0.51118121  0.        ]\n",
      " [-0.94        0.          0.          0.        ]\n",
      " [ 0.          0.          0.          0.        ]\n",
      " [ 0.          0.          0.          0.        ]\n",
      " [-1.          0.          0.          0.        ]\n",
      " [ 0.          0.          0.          0.        ]]\n",
      "Política inicialmente aprendida:\n",
      "[['→' '↓' '↑' 'T']\n",
      " ['→' 'X' '↓' '↓']\n",
      " ['↑' '↑' '↑' '↑']]\n",
      "\n",
      "\n",
      "Ejecución del episodio 1:\n",
      "\n",
      "Estado inicial: [0 1]\n",
      "Acción: ←    Recompensa: -0.04    Nuevo estado: [0 0]\n",
      "Acción: ↑    Recompensa: -0.04    Nuevo estado: [0 1]\n",
      "Acción: →    Recompensa: -0.04    Nuevo estado: [0 1]\n",
      "Acción: →    Recompensa: -0.04    Nuevo estado: [0 1]\n",
      "Acción: →    Recompensa: -0.04    Nuevo estado: [0 1]\n",
      "Acción: →    Recompensa: -0.04    Nuevo estado: [0 1]\n",
      "Acción: →    Recompensa: -0.04    Nuevo estado: [0 1]\n",
      "Acción: →    Recompensa: -0.04    Nuevo estado: [0 1]\n",
      "Acción: →    Recompensa: -0.04    Nuevo estado: [0 1]\n",
      "Acción: →    Recompensa: -0.04    Nuevo estado: [0 1]\n",
      "Acción: →    Recompensa: -0.04    Nuevo estado: [0 1]\n",
      "Acción: →    Recompensa: -0.04    Nuevo estado: [0 1]\n",
      "Acción: →    Recompensa: -0.04    Nuevo estado: [0 1]\n",
      "Acción: →    Recompensa: -0.04    Nuevo estado: [0 0]\n",
      "Acción: ↑    Recompensa: -0.04    Nuevo estado: [1 0]\n",
      "Acción: ↑    Recompensa: -0.04    Nuevo estado: [1 0]\n",
      "Acción: ↑    Recompensa: -0.04    Nuevo estado: [0 0]\n",
      "Acción: ↑    Recompensa: -0.04    Nuevo estado: [0 1]\n",
      "Acción: →    Recompensa: -0.04    Nuevo estado: [0 1]\n",
      "Acción: →    Recompensa: -0.04    Nuevo estado: [0 1]\n",
      "\n",
      "Actualización de las tablas y la política:\n",
      "Estado: [0 1]   Acción: ←\n",
      "Tabla de recompensas acumuladas (con redondeo):\n",
      "[['[]' '[]' '[]' '[]']\n",
      " ['[]' '[]' '[-0.35]' '[]']\n",
      " ['[]' '[]' '[]' '[]']\n",
      " ['[]' '[]' '[-0.48]' '[-0.49]']\n",
      " ['[]' '[]' '[]' '[]']\n",
      " ['[]' '[]' '[]' '[]']\n",
      " ['[]' '[]' '[-0.51]' '[]']\n",
      " ['[-0.94]' '[]' '[]' '[]']\n",
      " ['[]' '[]' '[]' '[]']\n",
      " ['[]' '[]' '[]' '[]']\n",
      " ['[-1.0]' '[]' '[]' '[]']\n",
      " ['[]' '[]' '[]' '[]']]\n",
      "Tabla Q:\n",
      "[[ 0.          0.          0.          0.        ]\n",
      " [ 0.          0.         -0.35136934  0.        ]\n",
      " [ 0.          0.          0.          0.        ]\n",
      " [ 0.          0.         -0.4810511  -0.49005678]\n",
      " [ 0.          0.          0.          0.        ]\n",
      " [ 0.          0.          0.          0.        ]\n",
      " [ 0.          0.         -0.51118121  0.        ]\n",
      " [-0.94        0.          0.          0.        ]\n",
      " [ 0.          0.          0.          0.        ]\n",
      " [ 0.          0.          0.          0.        ]\n",
      " [-1.          0.          0.          0.        ]\n",
      " [ 0.          0.          0.          0.        ]]\n",
      "Política aprendida:\n",
      "[['→' '↓' '↑' 'T']\n",
      " ['↑' 'X' '↓' '↓']\n",
      " ['↑' '↑' '↑' '↑']]\n",
      "Estado: [0 0]   Acción: ↑\n",
      "Tabla de recompensas acumuladas (con redondeo):\n",
      "[['[-0.35]' '[]' '[]' '[]']\n",
      " ['[]' '[]' '[-0.35]' '[]']\n",
      " ['[]' '[]' '[]' '[]']\n",
      " ['[]' '[]' '[-0.48]' '[-0.49]']\n",
      " ['[]' '[]' '[]' '[]']\n",
      " ['[]' '[]' '[]' '[]']\n",
      " ['[]' '[]' '[-0.51]' '[]']\n",
      " ['[-0.94]' '[]' '[]' '[]']\n",
      " ['[]' '[]' '[]' '[]']\n",
      " ['[]' '[]' '[]' '[]']\n",
      " ['[-1.0]' '[]' '[]' '[]']\n",
      " ['[]' '[]' '[]' '[]']]\n",
      "Tabla Q:\n",
      "[[-0.34596593  0.          0.          0.        ]\n",
      " [ 0.          0.         -0.35136934  0.        ]\n",
      " [ 0.          0.          0.          0.        ]\n",
      " [ 0.          0.         -0.4810511  -0.49005678]\n",
      " [ 0.          0.          0.          0.        ]\n",
      " [ 0.          0.          0.          0.        ]\n",
      " [ 0.          0.         -0.51118121  0.        ]\n",
      " [-0.94        0.          0.          0.        ]\n",
      " [ 0.          0.          0.          0.        ]\n",
      " [ 0.          0.          0.          0.        ]\n",
      " [-1.          0.          0.          0.        ]\n",
      " [ 0.          0.          0.          0.        ]]\n",
      "Política aprendida:\n",
      "[['→' '↓' '↑' 'T']\n",
      " ['↑' 'X' '↓' '↓']\n",
      " ['↓' '↑' '↑' '↑']]\n",
      "Estado: [0 1]   Acción: →\n",
      "Tabla de recompensas acumuladas (con redondeo):\n",
      "[['[-0.35]' '[]' '[]' '[]']\n",
      " ['[]' '[]' '[-0.35]' '[-0.34]']\n",
      " ['[]' '[]' '[]' '[]']\n",
      " ['[]' '[]' '[-0.48]' '[-0.49]']\n",
      " ['[]' '[]' '[]' '[]']\n",
      " ['[]' '[]' '[]' '[]']\n",
      " ['[]' '[]' '[-0.51]' '[]']\n",
      " ['[-0.94]' '[]' '[]' '[]']\n",
      " ['[]' '[]' '[]' '[]']\n",
      " ['[]' '[]' '[]' '[]']\n",
      " ['[-1.0]' '[]' '[]' '[]']\n",
      " ['[]' '[]' '[]' '[]']]\n",
      "Tabla Q:\n",
      "[[-0.34596593  0.          0.          0.        ]\n",
      " [ 0.          0.         -0.35136934 -0.33996215]\n",
      " [ 0.          0.          0.          0.        ]\n",
      " [ 0.          0.         -0.4810511  -0.49005678]\n",
      " [ 0.          0.          0.          0.        ]\n",
      " [ 0.          0.          0.          0.        ]\n",
      " [ 0.          0.         -0.51118121  0.        ]\n",
      " [-0.94        0.          0.          0.        ]\n",
      " [ 0.          0.          0.          0.        ]\n",
      " [ 0.          0.          0.          0.        ]\n",
      " [-1.          0.          0.          0.        ]\n",
      " [ 0.          0.          0.          0.        ]]\n",
      "Política aprendida:\n",
      "[['→' '↓' '↑' 'T']\n",
      " ['↑' 'X' '↓' '↓']\n",
      " ['↓' '↑' '↑' '↑']]\n",
      "Estado: [0 1]   Acción: →\n",
      "Tabla de recompensas acumuladas (con redondeo):\n",
      "[['[-0.35]' '[]' '[]' '[]']\n",
      " ['[]' '[]' '[-0.35]' '[-0.34 -0.33]']\n",
      " ['[]' '[]' '[]' '[]']\n",
      " ['[]' '[]' '[-0.48]' '[-0.49]']\n",
      " ['[]' '[]' '[]' '[]']\n",
      " ['[]' '[]' '[]' '[]']\n",
      " ['[]' '[]' '[-0.51]' '[]']\n",
      " ['[-0.94]' '[]' '[]' '[]']\n",
      " ['[]' '[]' '[]' '[]']\n",
      " ['[]' '[]' '[]' '[]']\n",
      " ['[-1.0]' '[]' '[]' '[]']\n",
      " ['[]' '[]' '[]' '[]']]\n",
      "Tabla Q:\n",
      "[[-0.34596593  0.          0.          0.        ]\n",
      " [ 0.          0.         -0.35136934 -0.33662671]\n",
      " [ 0.          0.          0.          0.        ]\n",
      " [ 0.          0.         -0.4810511  -0.49005678]\n",
      " [ 0.          0.          0.          0.        ]\n",
      " [ 0.          0.          0.          0.        ]\n",
      " [ 0.          0.         -0.51118121  0.        ]\n",
      " [-0.94        0.          0.          0.        ]\n",
      " [ 0.          0.          0.          0.        ]\n",
      " [ 0.          0.          0.          0.        ]\n",
      " [-1.          0.          0.          0.        ]\n",
      " [ 0.          0.          0.          0.        ]]\n",
      "Política aprendida:\n",
      "[['→' '↓' '↑' 'T']\n",
      " ['↑' 'X' '↓' '↓']\n",
      " ['↓' '↑' '↑' '↑']]\n",
      "Estado: [0 1]   Acción: →\n",
      "Tabla de recompensas acumuladas (con redondeo):\n",
      "[['[-0.35]' '[]' '[]' '[]']\n",
      " ['[]' '[]' '[-0.35]' '[-0.34 -0.33 -0.33]']\n",
      " ['[]' '[]' '[]' '[]']\n",
      " ['[]' '[]' '[-0.48]' '[-0.49]']\n",
      " ['[]' '[]' '[]' '[]']\n",
      " ['[]' '[]' '[]' '[]']\n",
      " ['[]' '[]' '[-0.51]' '[]']\n",
      " ['[-0.94]' '[]' '[]' '[]']\n",
      " ['[]' '[]' '[]' '[]']\n",
      " ['[]' '[]' '[]' '[]']\n",
      " ['[-1.0]' '[]' '[]' '[]']\n",
      " ['[]' '[]' '[]' '[]']]\n",
      "Tabla Q:\n",
      "[[-0.34596593  0.          0.          0.        ]\n",
      " [ 0.          0.         -0.35136934 -0.3330442 ]\n",
      " [ 0.          0.          0.          0.        ]\n",
      " [ 0.          0.         -0.4810511  -0.49005678]\n",
      " [ 0.          0.          0.          0.        ]\n",
      " [ 0.          0.          0.          0.        ]\n",
      " [ 0.          0.         -0.51118121  0.        ]\n",
      " [-0.94        0.          0.          0.        ]\n",
      " [ 0.          0.          0.          0.        ]\n",
      " [ 0.          0.          0.          0.        ]\n",
      " [-1.          0.          0.          0.        ]\n",
      " [ 0.          0.          0.          0.        ]]\n",
      "Política aprendida:\n",
      "[['→' '↓' '↑' 'T']\n",
      " ['↑' 'X' '↓' '↓']\n",
      " ['↓' '↑' '↑' '↑']]\n",
      "Estado: [0 1]   Acción: →\n",
      "Tabla de recompensas acumuladas (con redondeo):\n",
      "[['[-0.35]' '[]' '[]' '[]']\n",
      " ['[]' '[]' '[-0.35]' '[-0.34 -0.33 -0.33 -0.32]']\n",
      " ['[]' '[]' '[]' '[]']\n",
      " ['[]' '[]' '[-0.48]' '[-0.49]']\n",
      " ['[]' '[]' '[]' '[]']\n",
      " ['[]' '[]' '[]' '[]']\n",
      " ['[]' '[]' '[-0.51]' '[]']\n",
      " ['[-0.94]' '[]' '[]' '[]']\n",
      " ['[]' '[]' '[]' '[]']\n",
      " ['[]' '[]' '[]' '[]']\n",
      " ['[-1.0]' '[]' '[]' '[]']\n",
      " ['[]' '[]' '[]' '[]']]\n",
      "Tabla Q:\n",
      "[[-0.34596593  0.          0.          0.        ]\n",
      " [ 0.          0.         -0.35136934 -0.32919404]\n",
      " [ 0.          0.          0.          0.        ]\n",
      " [ 0.          0.         -0.4810511  -0.49005678]\n",
      " [ 0.          0.          0.          0.        ]\n",
      " [ 0.          0.          0.          0.        ]\n",
      " [ 0.          0.         -0.51118121  0.        ]\n",
      " [-0.94        0.          0.          0.        ]\n",
      " [ 0.          0.          0.          0.        ]\n",
      " [ 0.          0.          0.          0.        ]\n",
      " [-1.          0.          0.          0.        ]\n",
      " [ 0.          0.          0.          0.        ]]\n",
      "Política aprendida:\n",
      "[['→' '↓' '↑' 'T']\n",
      " ['↑' 'X' '↓' '↓']\n",
      " ['↓' '↑' '↑' '↑']]\n",
      "Estado: [0 1]   Acción: →\n",
      "Tabla de recompensas acumuladas (con redondeo):\n",
      "[['[-0.35]' '[]' '[]' '[]']\n",
      " ['[]' '[]' '[-0.35]' '[-0.34 -0.33 -0.33 -0.32 -0.31]']\n",
      " ['[]' '[]' '[]' '[]']\n",
      " ['[]' '[]' '[-0.48]' '[-0.49]']\n",
      " ['[]' '[]' '[]' '[]']\n",
      " ['[]' '[]' '[]' '[]']\n",
      " ['[]' '[]' '[-0.51]' '[]']\n",
      " ['[-0.94]' '[]' '[]' '[]']\n",
      " ['[]' '[]' '[]' '[]']\n",
      " ['[]' '[]' '[]' '[]']\n",
      " ['[-1.0]' '[]' '[]' '[]']\n",
      " ['[]' '[]' '[]' '[]']]\n",
      "Tabla Q:\n",
      "[[-0.34596593  0.          0.          0.        ]\n",
      " [ 0.          0.         -0.35136934 -0.3250538 ]\n",
      " [ 0.          0.          0.          0.        ]\n",
      " [ 0.          0.         -0.4810511  -0.49005678]\n",
      " [ 0.          0.          0.          0.        ]\n",
      " [ 0.          0.          0.          0.        ]\n",
      " [ 0.          0.         -0.51118121  0.        ]\n",
      " [-0.94        0.          0.          0.        ]\n",
      " [ 0.          0.          0.          0.        ]\n",
      " [ 0.          0.          0.          0.        ]\n",
      " [-1.          0.          0.          0.        ]\n",
      " [ 0.          0.          0.          0.        ]]\n",
      "Política aprendida:\n",
      "[['→' '↓' '↑' 'T']\n",
      " ['↑' 'X' '↓' '↓']\n",
      " ['↓' '↑' '↑' '↑']]\n",
      "Estado: [0 1]   Acción: →\n",
      "Tabla de recompensas acumuladas (con redondeo):\n",
      "[['[-0.35]' '[]' '[]' '[]']\n",
      " ['[]' '[]' '[-0.35]' '[-0.34 -0.33 -0.33 -0.32 -0.31 -0.3]']\n",
      " ['[]' '[]' '[]' '[]']\n",
      " ['[]' '[]' '[-0.48]' '[-0.49]']\n",
      " ['[]' '[]' '[]' '[]']\n",
      " ['[]' '[]' '[]' '[]']\n",
      " ['[]' '[]' '[-0.51]' '[]']\n",
      " ['[-0.94]' '[]' '[]' '[]']\n",
      " ['[]' '[]' '[]' '[]']\n",
      " ['[]' '[]' '[]' '[]']\n",
      " ['[-1.0]' '[]' '[]' '[]']\n",
      " ['[]' '[]' '[]' '[]']]\n",
      "Tabla Q:\n",
      "[[-0.34596593  0.          0.          0.        ]\n",
      " [ 0.          0.         -0.35136934 -0.32059906]\n",
      " [ 0.          0.          0.          0.        ]\n",
      " [ 0.          0.         -0.4810511  -0.49005678]\n",
      " [ 0.          0.          0.          0.        ]\n",
      " [ 0.          0.          0.          0.        ]\n",
      " [ 0.          0.         -0.51118121  0.        ]\n",
      " [-0.94        0.          0.          0.        ]\n",
      " [ 0.          0.          0.          0.        ]\n",
      " [ 0.          0.          0.          0.        ]\n",
      " [-1.          0.          0.          0.        ]\n",
      " [ 0.          0.          0.          0.        ]]\n",
      "Política aprendida:\n",
      "[['→' '↓' '↑' 'T']\n",
      " ['↑' 'X' '↓' '↓']\n",
      " ['↓' '↑' '↑' '↑']]\n",
      "Estado: [0 1]   Acción: →\n",
      "Tabla de recompensas acumuladas (con redondeo):\n",
      "[['[-0.35]' '[]' '[]' '[]']\n",
      " ['[]' '[]' '[-0.35]' '[-0.34 -0.33 -0.33 -0.32 -0.31 -0.3 -0.29]']\n",
      " ['[]' '[]' '[]' '[]']\n",
      " ['[]' '[]' '[-0.48]' '[-0.49]']\n",
      " ['[]' '[]' '[]' '[]']\n",
      " ['[]' '[]' '[]' '[]']\n",
      " ['[]' '[]' '[-0.51]' '[]']\n",
      " ['[-0.94]' '[]' '[]' '[]']\n",
      " ['[]' '[]' '[]' '[]']\n",
      " ['[]' '[]' '[]' '[]']\n",
      " ['[-1.0]' '[]' '[]' '[]']\n",
      " ['[]' '[]' '[]' '[]']]\n",
      "Tabla Q:\n",
      "[[-0.34596593  0.          0.          0.        ]\n",
      " [ 0.          0.         -0.35136934 -0.31580322]\n",
      " [ 0.          0.          0.          0.        ]\n",
      " [ 0.          0.         -0.4810511  -0.49005678]\n",
      " [ 0.          0.          0.          0.        ]\n",
      " [ 0.          0.          0.          0.        ]\n",
      " [ 0.          0.         -0.51118121  0.        ]\n",
      " [-0.94        0.          0.          0.        ]\n",
      " [ 0.          0.          0.          0.        ]\n",
      " [ 0.          0.          0.          0.        ]\n",
      " [-1.          0.          0.          0.        ]\n",
      " [ 0.          0.          0.          0.        ]]\n",
      "Política aprendida:\n",
      "[['→' '↓' '↑' 'T']\n",
      " ['↑' 'X' '↓' '↓']\n",
      " ['↓' '↑' '↑' '↑']]\n",
      "Estado: [0 1]   Acción: →\n",
      "Tabla de recompensas acumuladas (con redondeo):\n",
      "[['[-0.35]' '[]' '[]' '[]']\n",
      " ['[]' '[]' '[-0.35]' '[-0.34 -0.33 -0.33 -0.32 -0.31 -0.3 -0.29 -0.27]']\n",
      " ['[]' '[]' '[]' '[]']\n",
      " ['[]' '[]' '[-0.48]' '[-0.49]']\n",
      " ['[]' '[]' '[]' '[]']\n",
      " ['[]' '[]' '[]' '[]']\n",
      " ['[]' '[]' '[-0.51]' '[]']\n",
      " ['[-0.94]' '[]' '[]' '[]']\n",
      " ['[]' '[]' '[]' '[]']\n",
      " ['[]' '[]' '[]' '[]']\n",
      " ['[-1.0]' '[]' '[]' '[]']\n",
      " ['[]' '[]' '[]' '[]']]\n",
      "Tabla Q:\n",
      "[[-0.34596593  0.          0.          0.        ]\n",
      " [ 0.          0.         -0.35136934 -0.31063729]\n",
      " [ 0.          0.          0.          0.        ]\n",
      " [ 0.          0.         -0.4810511  -0.49005678]\n",
      " [ 0.          0.          0.          0.        ]\n",
      " [ 0.          0.          0.          0.        ]\n",
      " [ 0.          0.         -0.51118121  0.        ]\n",
      " [-0.94        0.          0.          0.        ]\n",
      " [ 0.          0.          0.          0.        ]\n",
      " [ 0.          0.          0.          0.        ]\n",
      " [-1.          0.          0.          0.        ]\n",
      " [ 0.          0.          0.          0.        ]]\n",
      "Política aprendida:\n",
      "[['→' '↓' '↑' 'T']\n",
      " ['↑' 'X' '↓' '↓']\n",
      " ['↓' '↑' '↑' '↑']]\n",
      "Estado: [0 1]   Acción: →\n",
      "Tabla de recompensas acumuladas (con redondeo):\n",
      "[['[-0.35]' '[]' '[]' '[]']\n",
      " ['[]' '[]' '[-0.35]'\n",
      "  '[-0.34 -0.33 -0.33 -0.32 -0.31 -0.3 -0.29 -0.27 -0.26]']\n",
      " ['[]' '[]' '[]' '[]']\n",
      " ['[]' '[]' '[-0.48]' '[-0.49]']\n",
      " ['[]' '[]' '[]' '[]']\n",
      " ['[]' '[]' '[]' '[]']\n",
      " ['[]' '[]' '[-0.51]' '[]']\n",
      " ['[-0.94]' '[]' '[]' '[]']\n",
      " ['[]' '[]' '[]' '[]']\n",
      " ['[]' '[]' '[]' '[]']\n",
      " ['[-1.0]' '[]' '[]' '[]']\n",
      " ['[]' '[]' '[]' '[]']]\n",
      "Tabla Q:\n",
      "[[-0.34596593  0.          0.          0.        ]\n",
      " [ 0.          0.         -0.35136934 -0.30506966]\n",
      " [ 0.          0.          0.          0.        ]\n",
      " [ 0.          0.         -0.4810511  -0.49005678]\n",
      " [ 0.          0.          0.          0.        ]\n",
      " [ 0.          0.          0.          0.        ]\n",
      " [ 0.          0.         -0.51118121  0.        ]\n",
      " [-0.94        0.          0.          0.        ]\n",
      " [ 0.          0.          0.          0.        ]\n",
      " [ 0.          0.          0.          0.        ]\n",
      " [-1.          0.          0.          0.        ]\n",
      " [ 0.          0.          0.          0.        ]]\n",
      "Política aprendida:\n",
      "[['→' '↓' '↑' 'T']\n",
      " ['↑' 'X' '↓' '↓']\n",
      " ['↓' '↑' '↑' '↑']]\n",
      "Estado: [0 1]   Acción: →\n",
      "Tabla de recompensas acumuladas (con redondeo):\n",
      "[['[-0.35]' '[]' '[]' '[]']\n",
      " ['[]' '[]' '[-0.35]'\n",
      "  '[-0.34 -0.33 -0.33 -0.32 -0.31 -0.3 -0.29 -0.27 -0.26 -0.25]']\n",
      " ['[]' '[]' '[]' '[]']\n",
      " ['[]' '[]' '[-0.48]' '[-0.49]']\n",
      " ['[]' '[]' '[]' '[]']\n",
      " ['[]' '[]' '[]' '[]']\n",
      " ['[]' '[]' '[-0.51]' '[]']\n",
      " ['[-0.94]' '[]' '[]' '[]']\n",
      " ['[]' '[]' '[]' '[]']\n",
      " ['[]' '[]' '[]' '[]']\n",
      " ['[-1.0]' '[]' '[]' '[]']\n",
      " ['[]' '[]' '[]' '[]']]\n",
      "Tabla Q:\n",
      "[[-0.34596593  0.          0.          0.        ]\n",
      " [ 0.          0.         -0.35136934 -0.29906587]\n",
      " [ 0.          0.          0.          0.        ]\n",
      " [ 0.          0.         -0.4810511  -0.49005678]\n",
      " [ 0.          0.          0.          0.        ]\n",
      " [ 0.          0.          0.          0.        ]\n",
      " [ 0.          0.         -0.51118121  0.        ]\n",
      " [-0.94        0.          0.          0.        ]\n",
      " [ 0.          0.          0.          0.        ]\n",
      " [ 0.          0.          0.          0.        ]\n",
      " [-1.          0.          0.          0.        ]\n",
      " [ 0.          0.          0.          0.        ]]\n",
      "Política aprendida:\n",
      "[['→' '↓' '↑' 'T']\n",
      " ['↑' 'X' '↓' '↓']\n",
      " ['↓' '↑' '↑' '↑']]\n",
      "Estado: [0 1]   Acción: →\n",
      "Tabla de recompensas acumuladas (con redondeo):\n",
      "[['[-0.35]' '[]' '[]' '[]']\n",
      " ['[]' '[]' '[-0.35]'\n",
      "  '[-0.34 -0.33 -0.33 -0.32 -0.31 -0.3 -0.29 -0.27 -0.26 -0.25 -0.23]']\n",
      " ['[]' '[]' '[]' '[]']\n",
      " ['[]' '[]' '[-0.48]' '[-0.49]']\n",
      " ['[]' '[]' '[]' '[]']\n",
      " ['[]' '[]' '[]' '[]']\n",
      " ['[]' '[]' '[-0.51]' '[]']\n",
      " ['[-0.94]' '[]' '[]' '[]']\n",
      " ['[]' '[]' '[]' '[]']\n",
      " ['[]' '[]' '[]' '[]']\n",
      " ['[-1.0]' '[]' '[]' '[]']\n",
      " ['[]' '[]' '[]' '[]']]\n",
      "Tabla Q:\n",
      "[[-0.34596593  0.          0.          0.        ]\n",
      " [ 0.          0.         -0.35136934 -0.29258835]\n",
      " [ 0.          0.          0.          0.        ]\n",
      " [ 0.          0.         -0.4810511  -0.49005678]\n",
      " [ 0.          0.          0.          0.        ]\n",
      " [ 0.          0.          0.          0.        ]\n",
      " [ 0.          0.         -0.51118121  0.        ]\n",
      " [-0.94        0.          0.          0.        ]\n",
      " [ 0.          0.          0.          0.        ]\n",
      " [ 0.          0.          0.          0.        ]\n",
      " [-1.          0.          0.          0.        ]\n",
      " [ 0.          0.          0.          0.        ]]\n",
      "Política aprendida:\n",
      "[['→' '↓' '↑' 'T']\n",
      " ['↑' 'X' '↓' '↓']\n",
      " ['↓' '↑' '↑' '↑']]\n",
      "Estado: [0 1]   Acción: →\n",
      "Tabla de recompensas acumuladas (con redondeo):\n",
      "[['[-0.35]' '[]' '[]' '[]']\n",
      " ['[]' '[]' '[-0.35]'\n",
      "  '[-0.34 -0.33 -0.33 -0.32 -0.31 -0.3 -0.29 -0.27 -0.26 -0.25 -0.23 -0.21]']\n",
      " ['[]' '[]' '[]' '[]']\n",
      " ['[]' '[]' '[-0.48]' '[-0.49]']\n",
      " ['[]' '[]' '[]' '[]']\n",
      " ['[]' '[]' '[]' '[]']\n",
      " ['[]' '[]' '[-0.51]' '[]']\n",
      " ['[-0.94]' '[]' '[]' '[]']\n",
      " ['[]' '[]' '[]' '[]']\n",
      " ['[]' '[]' '[]' '[]']\n",
      " ['[-1.0]' '[]' '[]' '[]']\n",
      " ['[]' '[]' '[]' '[]']]\n",
      "Tabla Q:\n",
      "[[-0.34596593  0.          0.          0.        ]\n",
      " [ 0.          0.         -0.35136934 -0.28559609]\n",
      " [ 0.          0.          0.          0.        ]\n",
      " [ 0.          0.         -0.4810511  -0.49005678]\n",
      " [ 0.          0.          0.          0.        ]\n",
      " [ 0.          0.          0.          0.        ]\n",
      " [ 0.          0.         -0.51118121  0.        ]\n",
      " [-0.94        0.          0.          0.        ]\n",
      " [ 0.          0.          0.          0.        ]\n",
      " [ 0.          0.          0.          0.        ]\n",
      " [-1.          0.          0.          0.        ]\n",
      " [ 0.          0.          0.          0.        ]]\n",
      "Política aprendida:\n",
      "[['→' '↓' '↑' 'T']\n",
      " ['↑' 'X' '↓' '↓']\n",
      " ['↓' '↑' '↑' '↑']]\n",
      "Estado: [0 0]   Acción: ↑\n",
      "Tabla de recompensas acumuladas (con redondeo):\n",
      "[['[-0.35 -0.19]' '[]' '[]' '[]']\n",
      " ['[]' '[]' '[-0.35]'\n",
      "  '[-0.34 -0.33 -0.33 -0.32 -0.31 -0.3 -0.29 -0.27 -0.26 -0.25 -0.23 -0.21]']\n",
      " ['[]' '[]' '[]' '[]']\n",
      " ['[]' '[]' '[-0.48]' '[-0.49]']\n",
      " ['[]' '[]' '[]' '[]']\n",
      " ['[]' '[]' '[]' '[]']\n",
      " ['[]' '[]' '[-0.51]' '[]']\n",
      " ['[-0.94]' '[]' '[]' '[]']\n",
      " ['[]' '[]' '[]' '[]']\n",
      " ['[]' '[]' '[]' '[]']\n",
      " ['[-1.0]' '[]' '[]' '[]']\n",
      " ['[]' '[]' '[]' '[]']]\n",
      "Tabla Q:\n",
      "[[-0.26669477  0.          0.          0.        ]\n",
      " [ 0.          0.         -0.35136934 -0.28559609]\n",
      " [ 0.          0.          0.          0.        ]\n",
      " [ 0.          0.         -0.4810511  -0.49005678]\n",
      " [ 0.          0.          0.          0.        ]\n",
      " [ 0.          0.          0.          0.        ]\n",
      " [ 0.          0.         -0.51118121  0.        ]\n",
      " [-0.94        0.          0.          0.        ]\n",
      " [ 0.          0.          0.          0.        ]\n",
      " [ 0.          0.          0.          0.        ]\n",
      " [-1.          0.          0.          0.        ]\n",
      " [ 0.          0.          0.          0.        ]]\n",
      "Política aprendida:\n",
      "[['→' '↓' '↑' 'T']\n",
      " ['↑' 'X' '↓' '↓']\n",
      " ['↓' '↑' '↑' '↑']]\n",
      "Estado: [1 0]   Acción: ↑\n",
      "Tabla de recompensas acumuladas (con redondeo):\n",
      "[['[-0.35 -0.19]' '[]' '[]' '[]']\n",
      " ['[]' '[]' '[-0.35]'\n",
      "  '[-0.34 -0.33 -0.33 -0.32 -0.31 -0.3 -0.29 -0.27 -0.26 -0.25 -0.23 -0.21]']\n",
      " ['[]' '[]' '[]' '[]']\n",
      " ['[-0.16]' '[]' '[-0.48]' '[-0.49]']\n",
      " ['[]' '[]' '[]' '[]']\n",
      " ['[]' '[]' '[]' '[]']\n",
      " ['[]' '[]' '[-0.51]' '[]']\n",
      " ['[-0.94]' '[]' '[]' '[]']\n",
      " ['[]' '[]' '[]' '[]']\n",
      " ['[]' '[]' '[]' '[]']\n",
      " ['[-1.0]' '[]' '[]' '[]']\n",
      " ['[]' '[]' '[]' '[]']]\n",
      "Tabla Q:\n",
      "[[-0.26669477  0.          0.          0.        ]\n",
      " [ 0.          0.         -0.35136934 -0.28559609]\n",
      " [ 0.          0.          0.          0.        ]\n",
      " [-0.163804    0.         -0.4810511  -0.49005678]\n",
      " [ 0.          0.          0.          0.        ]\n",
      " [ 0.          0.          0.          0.        ]\n",
      " [ 0.          0.         -0.51118121  0.        ]\n",
      " [-0.94        0.          0.          0.        ]\n",
      " [ 0.          0.          0.          0.        ]\n",
      " [ 0.          0.          0.          0.        ]\n",
      " [-1.          0.          0.          0.        ]\n",
      " [ 0.          0.          0.          0.        ]]\n",
      "Política aprendida:\n",
      "[['→' '↓' '↑' 'T']\n",
      " ['↑' 'X' '↓' '↓']\n",
      " ['↓' '↓' '↑' '↑']]\n",
      "Estado: [1 0]   Acción: ↑\n",
      "Tabla de recompensas acumuladas (con redondeo):\n",
      "[['[-0.35 -0.19]' '[]' '[]' '[]']\n",
      " ['[]' '[]' '[-0.35]'\n",
      "  '[-0.34 -0.33 -0.33 -0.32 -0.31 -0.3 -0.29 -0.27 -0.26 -0.25 -0.23 -0.21]']\n",
      " ['[]' '[]' '[]' '[]']\n",
      " ['[-0.16 -0.14]' '[]' '[-0.48]' '[-0.49]']\n",
      " ['[]' '[]' '[]' '[]']\n",
      " ['[]' '[]' '[]' '[]']\n",
      " ['[]' '[]' '[-0.51]' '[]']\n",
      " ['[-0.94]' '[]' '[]' '[]']\n",
      " ['[]' '[]' '[]' '[]']\n",
      " ['[]' '[]' '[]' '[]']\n",
      " ['[-1.0]' '[]' '[]' '[]']\n",
      " ['[]' '[]' '[]' '[]']]\n",
      "Tabla Q:\n",
      "[[-0.26669477  0.          0.          0.        ]\n",
      " [ 0.          0.         -0.35136934 -0.28559609]\n",
      " [ 0.          0.          0.          0.        ]\n",
      " [-0.150682    0.         -0.4810511  -0.49005678]\n",
      " [ 0.          0.          0.          0.        ]\n",
      " [ 0.          0.          0.          0.        ]\n",
      " [ 0.          0.         -0.51118121  0.        ]\n",
      " [-0.94        0.          0.          0.        ]\n",
      " [ 0.          0.          0.          0.        ]\n",
      " [ 0.          0.          0.          0.        ]\n",
      " [-1.          0.          0.          0.        ]\n",
      " [ 0.          0.          0.          0.        ]]\n",
      "Política aprendida:\n",
      "[['→' '↓' '↑' 'T']\n",
      " ['↑' 'X' '↓' '↓']\n",
      " ['↓' '↓' '↑' '↑']]\n",
      "Estado: [0 0]   Acción: ↑\n",
      "Tabla de recompensas acumuladas (con redondeo):\n",
      "[['[-0.35 -0.19 -0.11]' '[]' '[]' '[]']\n",
      " ['[]' '[]' '[-0.35]'\n",
      "  '[-0.34 -0.33 -0.33 -0.32 -0.31 -0.3 -0.29 -0.27 -0.26 -0.25 -0.23 -0.21]']\n",
      " ['[]' '[]' '[]' '[]']\n",
      " ['[-0.16 -0.14]' '[]' '[-0.48]' '[-0.49]']\n",
      " ['[]' '[]' '[]' '[]']\n",
      " ['[]' '[]' '[]' '[]']\n",
      " ['[]' '[]' '[-0.51]' '[]']\n",
      " ['[-0.94]' '[]' '[]' '[]']\n",
      " ['[]' '[]' '[]' '[]']\n",
      " ['[]' '[]' '[]' '[]']\n",
      " ['[-1.0]' '[]' '[]' '[]']\n",
      " ['[]' '[]' '[]' '[]']]\n",
      "Tabla Q:\n",
      "[[-0.21392984  0.          0.          0.        ]\n",
      " [ 0.          0.         -0.35136934 -0.28559609]\n",
      " [ 0.          0.          0.          0.        ]\n",
      " [-0.150682    0.         -0.4810511  -0.49005678]\n",
      " [ 0.          0.          0.          0.        ]\n",
      " [ 0.          0.          0.          0.        ]\n",
      " [ 0.          0.         -0.51118121  0.        ]\n",
      " [-0.94        0.          0.          0.        ]\n",
      " [ 0.          0.          0.          0.        ]\n",
      " [ 0.          0.          0.          0.        ]\n",
      " [-1.          0.          0.          0.        ]\n",
      " [ 0.          0.          0.          0.        ]]\n",
      "Política aprendida:\n",
      "[['→' '↓' '↑' 'T']\n",
      " ['↑' 'X' '↓' '↓']\n",
      " ['↓' '↓' '↑' '↑']]\n",
      "Estado: [0 1]   Acción: →\n",
      "Tabla de recompensas acumuladas (con redondeo):\n",
      "[['[-0.35 -0.19 -0.11]' '[]' '[]' '[]']\n",
      " ['[]' '[]' '[-0.35]'\n",
      "  '[-0.34 -0.33 -0.33 -0.32 -0.31 -0.3 -0.29 -0.27 -0.26 -0.25 -0.23 -0.21 -0.076]']\n",
      " ['[]' '[]' '[]' '[]']\n",
      " ['[-0.16 -0.14]' '[]' '[-0.48]' '[-0.49]']\n",
      " ['[]' '[]' '[]' '[]']\n",
      " ['[]' '[]' '[]' '[]']\n",
      " ['[]' '[]' '[-0.51]' '[]']\n",
      " ['[-0.94]' '[]' '[]' '[]']\n",
      " ['[]' '[]' '[]' '[]']\n",
      " ['[]' '[]' '[]' '[]']\n",
      " ['[-1.0]' '[]' '[]' '[]']\n",
      " ['[]' '[]' '[]' '[]']]\n",
      "Tabla Q:\n",
      "[[-0.21392984  0.          0.          0.        ]\n",
      " [ 0.          0.         -0.35136934 -0.26947331]\n",
      " [ 0.          0.          0.          0.        ]\n",
      " [-0.150682    0.         -0.4810511  -0.49005678]\n",
      " [ 0.          0.          0.          0.        ]\n",
      " [ 0.          0.          0.          0.        ]\n",
      " [ 0.          0.         -0.51118121  0.        ]\n",
      " [-0.94        0.          0.          0.        ]\n",
      " [ 0.          0.          0.          0.        ]\n",
      " [ 0.          0.          0.          0.        ]\n",
      " [-1.          0.          0.          0.        ]\n",
      " [ 0.          0.          0.          0.        ]]\n",
      "Política aprendida:\n",
      "[['→' '↓' '↑' 'T']\n",
      " ['↑' 'X' '↓' '↓']\n",
      " ['↓' '↓' '↑' '↑']]\n",
      "Estado: [0 1]   Acción: →\n",
      "Tabla de recompensas acumuladas (con redondeo):\n",
      "[['[-0.35 -0.19 -0.11]' '[]' '[]' '[]']\n",
      " ['[]' '[]' '[-0.35]'\n",
      "  '[-0.34 -0.33 -0.33 -0.32 -0.31 -0.3 -0.29 -0.27 -0.26 -0.25 -0.23 -0.21 -0.076 -0.04]']\n",
      " ['[]' '[]' '[]' '[]']\n",
      " ['[-0.16 -0.14]' '[]' '[-0.48]' '[-0.49]']\n",
      " ['[]' '[]' '[]' '[]']\n",
      " ['[]' '[]' '[]' '[]']\n",
      " ['[]' '[]' '[-0.51]' '[]']\n",
      " ['[-0.94]' '[]' '[]' '[]']\n",
      " ['[]' '[]' '[]' '[]']\n",
      " ['[]' '[]' '[]' '[]']\n",
      " ['[-1.0]' '[]' '[]' '[]']\n",
      " ['[]' '[]' '[]' '[]']]\n",
      "Tabla Q:\n",
      "[[-0.21392984  0.          0.          0.        ]\n",
      " [ 0.          0.         -0.35136934 -0.25308236]\n",
      " [ 0.          0.          0.          0.        ]\n",
      " [-0.150682    0.         -0.4810511  -0.49005678]\n",
      " [ 0.          0.          0.          0.        ]\n",
      " [ 0.          0.          0.          0.        ]\n",
      " [ 0.          0.         -0.51118121  0.        ]\n",
      " [-0.94        0.          0.          0.        ]\n",
      " [ 0.          0.          0.          0.        ]\n",
      " [ 0.          0.          0.          0.        ]\n",
      " [-1.          0.          0.          0.        ]\n",
      " [ 0.          0.          0.          0.        ]]\n",
      "Política aprendida:\n",
      "[['→' '↓' '↑' 'T']\n",
      " ['↑' 'X' '↓' '↓']\n",
      " ['↓' '↓' '↑' '↑']]\n"
     ]
    },
    {
     "data": {
      "text/plain": [
       "array([[1, 0, 3],\n",
       "       [1, 0, 1],\n",
       "       [0, 1, 0],\n",
       "       [0, 1, 1]])"
      ]
     },
     "execution_count": 57,
     "metadata": {},
     "output_type": "execute_result"
    }
   ],
   "source": [
    "agente.ejecuta_algoritmo(num_episodios=1, cada_visita=True, verboso=True)"
   ]
  },
  {
   "cell_type": "code",
   "execution_count": 58,
   "id": "2d8e54da-944a-4fc6-b1b7-6ea97f603abf",
   "metadata": {
    "tags": []
   },
   "outputs": [
    {
     "name": "stderr",
     "output_type": "stream",
     "text": [
      "100%|███████████████████████████████████████████████████████████| 998/998 [00:00<00:00, 1905.20it/s]\n"
     ]
    }
   ],
   "source": [
    "politica_Montecarlo = agente.ejecuta_algoritmo(num_episodios=998)"
   ]
  },
  {
   "cell_type": "code",
   "execution_count": 59,
   "id": "4b96b68f-7b00-45ca-b694-3641d8e83dac",
   "metadata": {},
   "outputs": [
    {
     "name": "stdout",
     "output_type": "stream",
     "text": [
      "[['→' '→' '→' 'T']\n",
      " ['↑' 'X' '←' '↑']\n",
      " ['↑' '←' '↑' '↓']]\n"
     ]
    }
   ],
   "source": [
    "print(representa_politica(politica_Montecarlo))"
   ]
  },
  {
   "cell_type": "markdown",
   "id": "fae23176-1841-4f5c-86a2-27f9e7385843",
   "metadata": {},
   "source": [
    "Si representamos gráficamente la evolución del promedio de recompensas acumuladas y longitudes de los episodios, se puede observar cómo el primero aumenta y el segundo disminuye con el número de episodios."
   ]
  },
  {
   "cell_type": "code",
   "execution_count": 60,
   "id": "fb4e82fa-3e47-43b1-913e-e4e0f46ae4e3",
   "metadata": {
    "tags": []
   },
   "outputs": [],
   "source": [
    "recompensas = cuadricula_con_tiempo_limite_y_registro.return_queue\n",
    "longitudes = cuadricula_con_tiempo_limite_y_registro.length_queue"
   ]
  },
  {
   "cell_type": "code",
   "execution_count": 61,
   "id": "34a5df22-29f4-4ee9-baac-a55480261cfc",
   "metadata": {
    "tags": []
   },
   "outputs": [],
   "source": [
    "def visualiza_serie_temporal_de_episodios(recompensas, longitudes):\n",
    "    num_episodios = len(recompensas)\n",
    "    indices_episodios = np.arange(1, num_episodios + 1)\n",
    "    fig, (ax1, ax2) = plt.subplots(1, 2, figsize=(10, 3))\n",
    "    ax1.plot(indices_episodios, np.cumsum(recompensas) / indices_episodios)\n",
    "    ax1.set_title('Promedio de las recompensas\\nacumuladas de los episodios')\n",
    "    ax1.set_xlabel('Episodio')\n",
    "    ax1.set_ylabel('Promedio')\n",
    "    ax2.plot(indices_episodios, np.cumsum(longitudes) / indices_episodios)\n",
    "    ax2.set_title('Promedio de las longitudes\\nde los episodios')\n",
    "    ax2.set_xlabel('Episodio')\n",
    "    ax2.set_ylabel('Promedio')"
   ]
  },
  {
   "cell_type": "code",
   "execution_count": 62,
   "id": "261903d5-8109-4edf-bf75-21b980049980",
   "metadata": {
    "tags": []
   },
   "outputs": [
    {
     "data": {
      "image/png": "[encoded data removed]",
      "text/plain": [
       "<Figure size 1000x300 with 2 Axes>"
      ]
     },
     "metadata": {},
     "output_type": "display_data"
    }
   ],
   "source": [
    "visualiza_serie_temporal_de_episodios(recompensas, longitudes)"
   ]
  },
  {
   "cell_type": "markdown",
   "id": "c3dd6d90-7929-447a-9712-2a2048aad04e",
   "metadata": {},
   "source": [
    "Para el agente Q-Learning no se necesita limitar la longitud de los episodios, ya que aprende de manera continua a medida que se van generando estos."
   ]
  },
  {
   "cell_type": "code",
   "execution_count": 63,
   "id": "25f4338d-fc2e-454a-9e84-dc8ee27b2e2d",
   "metadata": {
    "tags": []
   },
   "outputs": [],
   "source": [
    "cuadricula_con_registro = RecordEpisodeStatistics(cuadricula,\n",
    "                                                  deque_size=1000)"
   ]
  },
  {
   "cell_type": "code",
   "execution_count": 64,
   "id": "34bf62a5-6594-4573-b5e2-cb580c83cd37",
   "metadata": {
    "tags": []
   },
   "outputs": [],
   "source": [
    "cuadricula_con_registro.reset(seed=3958723)\n",
    "agente = AgenteQLearning(cuadricula_con_registro,\n",
    "                         gamma=0.9, alfa=0.5, epsilon=0.25)"
   ]
  },
  {
   "cell_type": "code",
   "execution_count": 65,
   "id": "27c34afc-df0a-4695-b568-da8a17b8f1c8",
   "metadata": {},
   "outputs": [
    {
     "name": "stdout",
     "output_type": "stream",
     "text": [
      "Ejecución del episodio 1:\n",
      "\n",
      "Estado inicial: [0 0]\n",
      "Tabla Q inicial:\n",
      "[[0. 0. 0. 0.]\n",
      " [0. 0. 0. 0.]\n",
      " [0. 0. 0. 0.]\n",
      " [0. 0. 0. 0.]\n",
      " [0. 0. 0. 0.]\n",
      " [0. 0. 0. 0.]\n",
      " [0. 0. 0. 0.]\n",
      " [0. 0. 0. 0.]\n",
      " [0. 0. 0. 0.]\n",
      " [0. 0. 0. 0.]\n",
      " [0. 0. 0. 0.]\n",
      " [0. 0. 0. 0.]]\n",
      "Política inicialmente aprendida:\n",
      "[['↑' '↑' '↑' 'T']\n",
      " ['↑' 'X' '↑' '↑']\n",
      " ['↑' '↑' '↑' '↑']]\n",
      "\n",
      "Acción: ↑ (voraz)    Recompensa: -0.04    Nuevo estado: [1 0]\n",
      "Tabla Q actual:\n",
      "[[-0.02  0.    0.    0.  ]\n",
      " [ 0.    0.    0.    0.  ]\n",
      " [ 0.    0.    0.    0.  ]\n",
      " [ 0.    0.    0.    0.  ]\n",
      " [ 0.    0.    0.    0.  ]\n",
      " [ 0.    0.    0.    0.  ]\n",
      " [ 0.    0.    0.    0.  ]\n",
      " [ 0.    0.    0.    0.  ]\n",
      " [ 0.    0.    0.    0.  ]\n",
      " [ 0.    0.    0.    0.  ]\n",
      " [ 0.    0.    0.    0.  ]\n",
      " [ 0.    0.    0.    0.  ]]\n",
      "Política actualmente aprendida:\n",
      "[['↑' '↑' '↑' 'T']\n",
      " ['↑' 'X' '↑' '↑']\n",
      " ['↓' '↑' '↑' '↑']]\n",
      "\n",
      "Acción: ↑ (voraz)    Recompensa: -0.04    Nuevo estado: [1 0]\n",
      "Tabla Q actual:\n",
      "[[-0.02  0.    0.    0.  ]\n",
      " [ 0.    0.    0.    0.  ]\n",
      " [ 0.    0.    0.    0.  ]\n",
      " [-0.02  0.    0.    0.  ]\n",
      " [ 0.    0.    0.    0.  ]\n",
      " [ 0.    0.    0.    0.  ]\n",
      " [ 0.    0.    0.    0.  ]\n",
      " [ 0.    0.    0.    0.  ]\n",
      " [ 0.    0.    0.    0.  ]\n",
      " [ 0.    0.    0.    0.  ]\n",
      " [ 0.    0.    0.    0.  ]\n",
      " [ 0.    0.    0.    0.  ]]\n",
      "Política actualmente aprendida:\n",
      "[['↑' '↑' '↑' 'T']\n",
      " ['↑' 'X' '↑' '↑']\n",
      " ['↓' '↓' '↑' '↑']]\n",
      "\n",
      "Acción: ↑ (aleatoria)    Recompensa: -0.04    Nuevo estado: [1 0]\n",
      "Tabla Q actual:\n",
      "[[-0.02  0.    0.    0.  ]\n",
      " [ 0.    0.    0.    0.  ]\n",
      " [ 0.    0.    0.    0.  ]\n",
      " [-0.03  0.    0.    0.  ]\n",
      " [ 0.    0.    0.    0.  ]\n",
      " [ 0.    0.    0.    0.  ]\n",
      " [ 0.    0.    0.    0.  ]\n",
      " [ 0.    0.    0.    0.  ]\n",
      " [ 0.    0.    0.    0.  ]\n",
      " [ 0.    0.    0.    0.  ]\n",
      " [ 0.    0.    0.    0.  ]\n",
      " [ 0.    0.    0.    0.  ]]\n",
      "Política actualmente aprendida:\n",
      "[['↑' '↑' '↑' 'T']\n",
      " ['↑' 'X' '↑' '↑']\n",
      " ['↓' '↓' '↑' '↑']]\n",
      "\n",
      "Acción: ↓ (voraz)    Recompensa: -0.04    Nuevo estado: [1 0]\n",
      "Tabla Q actual:\n",
      "[[-0.02  0.    0.    0.  ]\n",
      " [ 0.    0.    0.    0.  ]\n",
      " [ 0.    0.    0.    0.  ]\n",
      " [-0.03 -0.02  0.    0.  ]\n",
      " [ 0.    0.    0.    0.  ]\n",
      " [ 0.    0.    0.    0.  ]\n",
      " [ 0.    0.    0.    0.  ]\n",
      " [ 0.    0.    0.    0.  ]\n",
      " [ 0.    0.    0.    0.  ]\n",
      " [ 0.    0.    0.    0.  ]\n",
      " [ 0.    0.    0.    0.  ]\n",
      " [ 0.    0.    0.    0.  ]]\n",
      "Política actualmente aprendida:\n",
      "[['↑' '↑' '↑' 'T']\n",
      " ['↑' 'X' '↑' '↑']\n",
      " ['↓' '←' '↑' '↑']]\n",
      "\n",
      "Acción: → (aleatoria)    Recompensa: -0.04    Nuevo estado: [2 0]\n",
      "Tabla Q actual:\n",
      "[[-0.02  0.    0.    0.  ]\n",
      " [ 0.    0.    0.    0.  ]\n",
      " [ 0.    0.    0.    0.  ]\n",
      " [-0.03 -0.02  0.   -0.02]\n",
      " [ 0.    0.    0.    0.  ]\n",
      " [ 0.    0.    0.    0.  ]\n",
      " [ 0.    0.    0.    0.  ]\n",
      " [ 0.    0.    0.    0.  ]\n",
      " [ 0.    0.    0.    0.  ]\n",
      " [ 0.    0.    0.    0.  ]\n",
      " [ 0.    0.    0.    0.  ]\n",
      " [ 0.    0.    0.    0.  ]]\n",
      "Política actualmente aprendida:\n",
      "[['↑' '↑' '↑' 'T']\n",
      " ['↑' 'X' '↑' '↑']\n",
      " ['↓' '←' '↑' '↑']]\n",
      "\n",
      "Acción: → (aleatoria)    Recompensa: -0.04    Nuevo estado: [2 0]\n",
      "Tabla Q actual:\n",
      "[[-0.02  0.    0.    0.  ]\n",
      " [ 0.    0.    0.    0.  ]\n",
      " [ 0.    0.    0.    0.  ]\n",
      " [-0.03 -0.02  0.   -0.02]\n",
      " [ 0.    0.    0.    0.  ]\n",
      " [ 0.    0.    0.    0.  ]\n",
      " [ 0.    0.    0.   -0.02]\n",
      " [ 0.    0.    0.    0.  ]\n",
      " [ 0.    0.    0.    0.  ]\n",
      " [ 0.    0.    0.    0.  ]\n",
      " [ 0.    0.    0.    0.  ]\n",
      " [ 0.    0.    0.    0.  ]]\n",
      "Política actualmente aprendida:\n",
      "[['↑' '↑' '↑' 'T']\n",
      " ['↑' 'X' '↑' '↑']\n",
      " ['↓' '←' '↑' '↑']]\n",
      "\n",
      "Acción: ↑ (voraz)    Recompensa: -0.04    Nuevo estado: [2 1]\n",
      "Tabla Q actual:\n",
      "[[-0.02  0.    0.    0.  ]\n",
      " [ 0.    0.    0.    0.  ]\n",
      " [ 0.    0.    0.    0.  ]\n",
      " [-0.03 -0.02  0.   -0.02]\n",
      " [ 0.    0.    0.    0.  ]\n",
      " [ 0.    0.    0.    0.  ]\n",
      " [-0.02  0.    0.   -0.02]\n",
      " [ 0.    0.    0.    0.  ]\n",
      " [ 0.    0.    0.    0.  ]\n",
      " [ 0.    0.    0.    0.  ]\n",
      " [ 0.    0.    0.    0.  ]\n",
      " [ 0.    0.    0.    0.  ]]\n",
      "Política actualmente aprendida:\n",
      "[['↑' '↑' '↑' 'T']\n",
      " ['↑' 'X' '↑' '↑']\n",
      " ['↓' '←' '↓' '↑']]\n",
      "\n",
      "Acción: ↑ (voraz)    Recompensa: -0.04    Nuevo estado: [2 1]\n",
      "Tabla Q actual:\n",
      "[[-0.02  0.    0.    0.  ]\n",
      " [ 0.    0.    0.    0.  ]\n",
      " [ 0.    0.    0.    0.  ]\n",
      " [-0.03 -0.02  0.   -0.02]\n",
      " [ 0.    0.    0.    0.  ]\n",
      " [ 0.    0.    0.    0.  ]\n",
      " [-0.02  0.    0.   -0.02]\n",
      " [-0.02  0.    0.    0.  ]\n",
      " [ 0.    0.    0.    0.  ]\n",
      " [ 0.    0.    0.    0.  ]\n",
      " [ 0.    0.    0.    0.  ]\n",
      " [ 0.    0.    0.    0.  ]]\n",
      "Política actualmente aprendida:\n",
      "[['↑' '↑' '↑' 'T']\n",
      " ['↑' 'X' '↓' '↑']\n",
      " ['↓' '←' '↓' '↑']]\n",
      "\n",
      "Acción: ↓ (voraz)    Recompensa: -0.04    Nuevo estado: [2 1]\n",
      "Tabla Q actual:\n",
      "[[-0.02  0.    0.    0.  ]\n",
      " [ 0.    0.    0.    0.  ]\n",
      " [ 0.    0.    0.    0.  ]\n",
      " [-0.03 -0.02  0.   -0.02]\n",
      " [ 0.    0.    0.    0.  ]\n",
      " [ 0.    0.    0.    0.  ]\n",
      " [-0.02  0.    0.   -0.02]\n",
      " [-0.02 -0.02  0.    0.  ]\n",
      " [ 0.    0.    0.    0.  ]\n",
      " [ 0.    0.    0.    0.  ]\n",
      " [ 0.    0.    0.    0.  ]\n",
      " [ 0.    0.    0.    0.  ]]\n",
      "Política actualmente aprendida:\n",
      "[['↑' '↑' '↑' 'T']\n",
      " ['↑' 'X' '←' '↑']\n",
      " ['↓' '←' '↓' '↑']]\n",
      "\n",
      "Acción: ← (voraz)    Recompensa: -0.04    Nuevo estado: [2 1]\n",
      "Tabla Q actual:\n",
      "[[-0.02  0.    0.    0.  ]\n",
      " [ 0.    0.    0.    0.  ]\n",
      " [ 0.    0.    0.    0.  ]\n",
      " [-0.03 -0.02  0.   -0.02]\n",
      " [ 0.    0.    0.    0.  ]\n",
      " [ 0.    0.    0.    0.  ]\n",
      " [-0.02  0.    0.   -0.02]\n",
      " [-0.02 -0.02 -0.02  0.  ]\n",
      " [ 0.    0.    0.    0.  ]\n",
      " [ 0.    0.    0.    0.  ]\n",
      " [ 0.    0.    0.    0.  ]\n",
      " [ 0.    0.    0.    0.  ]]\n",
      "Política actualmente aprendida:\n",
      "[['↑' '↑' '↑' 'T']\n",
      " ['↑' 'X' '→' '↑']\n",
      " ['↓' '←' '↓' '↑']]\n",
      "\n",
      "Acción: → (voraz)    Recompensa: -0.04    Nuevo estado: [3 1]\n",
      "Tabla Q actual:\n",
      "[[-0.02  0.    0.    0.  ]\n",
      " [ 0.    0.    0.    0.  ]\n",
      " [ 0.    0.    0.    0.  ]\n",
      " [-0.03 -0.02  0.   -0.02]\n",
      " [ 0.    0.    0.    0.  ]\n",
      " [ 0.    0.    0.    0.  ]\n",
      " [-0.02  0.    0.   -0.02]\n",
      " [-0.02 -0.02 -0.02 -0.02]\n",
      " [ 0.    0.    0.    0.  ]\n",
      " [ 0.    0.    0.    0.  ]\n",
      " [ 0.    0.    0.    0.  ]\n",
      " [ 0.    0.    0.    0.  ]]\n",
      "Política actualmente aprendida:\n",
      "[['↑' '↑' '↑' 'T']\n",
      " ['↑' 'X' '↑' '↑']\n",
      " ['↓' '←' '↓' '↑']]\n",
      "\n",
      "Acción: ↑ (voraz)    Recompensa: -1.00    Nuevo estado: [3 2]\n",
      "Tabla Q actual:\n",
      "[[-0.02  0.    0.    0.  ]\n",
      " [ 0.    0.    0.    0.  ]\n",
      " [ 0.    0.    0.    0.  ]\n",
      " [-0.03 -0.02  0.   -0.02]\n",
      " [ 0.    0.    0.    0.  ]\n",
      " [ 0.    0.    0.    0.  ]\n",
      " [-0.02  0.    0.   -0.02]\n",
      " [-0.02 -0.02 -0.02 -0.02]\n",
      " [ 0.    0.    0.    0.  ]\n",
      " [ 0.    0.    0.    0.  ]\n",
      " [-0.5   0.    0.    0.  ]\n",
      " [ 0.    0.    0.    0.  ]]\n",
      "Política actualmente aprendida:\n",
      "[['↑' '↑' '↑' 'T']\n",
      " ['↑' 'X' '↑' '↓']\n",
      " ['↓' '←' '↓' '↑']]\n"
     ]
    },
    {
     "data": {
      "text/plain": [
       "array([[1, 0, 0],\n",
       "       [2, 0, 0],\n",
       "       [1, 0, 0],\n",
       "       [0, 1, 0]])"
      ]
     },
     "execution_count": 65,
     "metadata": {},
     "output_type": "execute_result"
    }
   ],
   "source": [
    "agente.ejecuta_algoritmo(num_episodios=1, verboso=True)"
   ]
  },
  {
   "cell_type": "code",
   "execution_count": 66,
   "id": "4173f5c9-8885-4310-9a6b-e7722c26a3ca",
   "metadata": {
    "tags": []
   },
   "outputs": [
    {
     "name": "stderr",
     "output_type": "stream",
     "text": [
      "100%|███████████████████████████████████████████████████████████| 999/999 [00:00<00:00, 1679.67it/s]\n"
     ]
    }
   ],
   "source": [
    "politica_q_learning = agente.ejecuta_algoritmo(num_episodios=999)"
   ]
  },
  {
   "cell_type": "code",
   "execution_count": 67,
   "id": "bd3d04ad-d406-4472-aca9-e92e43c9ea19",
   "metadata": {},
   "outputs": [
    {
     "name": "stdout",
     "output_type": "stream",
     "text": [
      "[['→' '→' '→' 'T']\n",
      " ['↑' 'X' '←' '↑']\n",
      " ['↑' '←' '←' '↓']]\n"
     ]
    }
   ],
   "source": [
    "print(representa_politica(politica_q_learning))"
   ]
  },
  {
   "cell_type": "markdown",
   "id": "291be72f-d166-4c3a-ac09-4c4aa502fc6e",
   "metadata": {},
   "source": [
    "La representación gráfica de la evolución del promedio de recompensas acumuladas y longitudes de los episodios muestra que el agente Q-learning ha aprendido más rápidamente a llegar a la celda objetivo que el agente Montecarlo."
   ]
  },
  {
   "cell_type": "code",
   "execution_count": 68,
   "id": "d53dcd3d-6544-4e1f-b9e1-f9c36601cb99",
   "metadata": {
    "tags": []
   },
   "outputs": [],
   "source": [
    "recompensas = cuadricula_con_registro.return_queue\n",
    "longitudes = cuadricula_con_registro.length_queue"
   ]
  },
  {
   "cell_type": "code",
   "execution_count": 69,
   "id": "2ed525b8-6029-4a0a-a76a-bf5a51f82a70",
   "metadata": {
    "tags": []
   },
   "outputs": [
    {
     "data": {
      "image/png": "[encoded data removed]",
      "text/plain": [
       "<Figure size 1000x300 with 2 Axes>"
      ]
     },
     "metadata": {},
     "output_type": "display_data"
    }
   ],
   "source": [
    "visualiza_serie_temporal_de_episodios(recompensas, longitudes)"
   ]
  }
 ],
 "metadata": {
  "kernelspec": {
   "display_name": "Python 3 (ipykernel)",
   "language": "python",
   "name": "python3"
  },
  "language_info": {
   "codemirror_mode": {
    "name": "ipython",
    "version": 3
   },
   "file_extension": ".py",
   "mimetype": "text/x-python",
   "name": "python",
   "nbconvert_exporter": "python",
   "pygments_lexer": "ipython3",
   "version": "0.0.0"
  }
 },
 "nbformat": 4,
 "nbformat_minor": 5
}
